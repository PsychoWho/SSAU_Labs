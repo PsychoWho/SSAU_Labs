{
  "nbformat": 4,
  "nbformat_minor": 0,
  "metadata": {
    "colab": {
      "provenance": []
    },
    "kernelspec": {
      "name": "python3",
      "display_name": "Python 3"
    },
    "language_info": {
      "name": "python"
    }
  },
  "cells": [
    {
      "cell_type": "markdown",
      "source": [
        "#Лабораторная работа № 4. Интерполирование и интегрирование\n",
        " Вариант №5 \\\\\n",
        " Завадский Никита Валерьевич"
      ],
      "metadata": {
        "id": "pRQV7hLOYuul"
      }
    },
    {
      "cell_type": "code",
      "source": [
        "import numpy as np\n",
        "import matplotlib.pyplot as plt"
      ],
      "metadata": {
        "id": "IzgmgCWoYzF_"
      },
      "execution_count": 1,
      "outputs": []
    },
    {
      "cell_type": "markdown",
      "source": [
        "#1\n",
        "Используя интерполяционную формулу Лагранжа для неравноотстоящих узлов\n",
        "1. построить многочлен Лагранжа (вывести формулу)\n",
        "2. вывести график многочлена Лагранжа на заданном промежутке\n",
        "3. вычислить значения функции при данных значениях аргумента\n",
        "4. отметить на графике (разными цветами) узлы интерполяции, а также предсказанные значения функции.\n",
        "\n",
        "В работе должна обязательно присутствовать теоретическая часть, формулы для нахождения многочлена Лагранжа должны быть\n",
        "записаны Latex-формулам.\n",
        "\n",
        "Функция задана таблицей:\n",
        "\\begin{array}{|c|c|}\n",
        "\\hline\n",
        "x & 0.35 & 0.41 & 0.47 & 0.51 & 0.56 & 0.64 \\\\\n",
        "\\hline\n",
        "y & 2.73851 & 2.30080 & 1.96864 & 1.78776 & 1.59502 & 1.34310 \\\\\n",
        " \\hline\n",
        "\\end{array}\n",
        "\n",
        "Построить многочлен Лагранжа. Вычислить значение функции в точках:\n",
        "\\begin{array}{|c|c|}\n",
        "\\hline\n",
        "x & 0.256 & 0.453 & 0.482 & 0.552 & 0.436 \\\\\n",
        "\\hline\n",
        "\\end{array}"
      ],
      "metadata": {
        "id": "TlWhi_PvZIwv"
      }
    },
    {
      "cell_type": "markdown",
      "source": [
        "\n",
        "\n",
        "---\n",
        "\n",
        "\n",
        "**Интерполяционная формула Лагранжа.** Пусть $x_i, i=\\overline{0,n}$ - произвольные узлы, а $y_i=f(x_i)$ значения функции $f(x)$. Многочленом степени $n$, принимающим в точках $x_i$ значения $y_i$ является интерполяционный многочлен Лагранжа:\n",
        "$$L_n(x) = \\sum_{i=0}^n y_i \\prod_{\\substack{j=0 \\\\ j \\neq i}}^{n} \\frac{x - x_j}{x_i - x_j} $$\n",
        "Коэффицентом Лагранжа называется выражение: $$l_i(x)=\\prod_{\\substack{j=0 \\\\ j \\neq i}}^{n} \\frac{x - x_j}{x_i - x_j}$$\n",
        "$$$$\n",
        "**Многочлен Лагранжа для данного задания.** Многочлен Лагранжа имеет вид: $$L_5(x)=y_0*l_0(x)+y_1*l_1(x)+y_2*l_2(x)+y_3*l_3(x)+y_4*l_4(x)+y_5*l_5(x),$$\n",
        "где:\n",
        "$$l_0=\\frac{(x-x_1)(x-x_2)(x-x_3)(x-x_4)(x-x_5)}{(x_0-x_1)(x_0-x_2)(x_0-x_3)(x_0-x_4)(x_0-x_5)}, \\\\\n",
        "l_1=\\frac{(x-x_0)(x-x_2)(x-x_3)(x-x_4)(x-x_5)}{(x_1-x_0)(x_1-x_2)(x_1-x_3)(x_1-x_4)(x_1-x_5)}$$ и так далее для остальных.\n",
        "\n",
        "\n",
        "---\n",
        "\n",
        "Напишем функцию, которая будет вычислять $L_n(x)$"
      ],
      "metadata": {
        "id": "q5cve-VzmnyC"
      }
    },
    {
      "cell_type": "code",
      "source": [
        "def L(x,X,Y):\n",
        "  n = len(X)\n",
        "  L = 0.0\n",
        "  for i in range(n):\n",
        "    l = Y[i]\n",
        "    for j in range(n):\n",
        "      if i != j:\n",
        "        l *= (x - X[j])/(X[i] - X[j])\n",
        "    L += l\n",
        "  return L"
      ],
      "metadata": {
        "id": "wVcQ6o4_vRmg"
      },
      "execution_count": 22,
      "outputs": []
    },
    {
      "cell_type": "markdown",
      "source": [
        "Вычисляем значения функции при в заданных точках"
      ],
      "metadata": {
        "id": "C43qAoO4wfKc"
      }
    },
    {
      "cell_type": "code",
      "source": [
        "#функция задана точками\n",
        "X = np.array([0.35, 0.41, 0.47, 0.51, 0.56, 0.64])\n",
        "Y = np.array([2.73851, 2.30080, 1.96864, 1.78776, 1.59502, 1.34310])\n",
        "\n",
        "#заданные точки\n",
        "x = np.array([0.256, 0.453, 0.482, 0.552, 0.436])\n",
        "y = np.array([L(i, X, Y) for i in x])\n",
        "\n",
        "print(y)"
      ],
      "metadata": {
        "colab": {
          "base_uri": "https://localhost:8080/"
        },
        "id": "TVY0C5pAwrm9",
        "outputId": "e7c9e0db-44a8-47a4-b9be-9b2d1835b9bb"
      },
      "execution_count": 23,
      "outputs": [
        {
          "output_type": "stream",
          "name": "stdout",
          "text": [
            "[3.7779333  2.05439959 1.91148232 1.62373433 2.14636944]\n"
          ]
        }
      ]
    },
    {
      "cell_type": "markdown",
      "source": [
        "рисуем график функции и отмечаем на нем узлы и предсказанные значения"
      ],
      "metadata": {
        "id": "tTl_VU0YyRTs"
      }
    },
    {
      "cell_type": "code",
      "source": [
        "plt.figure(figsize=(8, 5), dpi=80)\n",
        "\n",
        "x_plot = np.linspace(0.2, 0.8, 100)\n",
        "y_plot = [L(i, X, Y) for i in x_plot]\n",
        "\n",
        "plt.plot(x_plot, y_plot, label='Многочлен Лагранжа', color='blue')\n",
        "plt.scatter(X, Y, color='red', label='Узлы интерполяции')\n",
        "plt.scatter(x, y, color='green', label='Предсказанные значения')\n",
        "plt.title('График кубической функции')\n",
        "plt.ylim(0, 4)\n",
        "plt.xlim(0.2, 0.8)\n",
        "plt.grid()\n",
        "plt.legend()\n",
        "plt.axhline(0, color='black', linewidth=0.5)\n",
        "plt.axvline(0, color='black', linewidth=0.5)\n",
        "plt.show()"
      ],
      "metadata": {
        "colab": {
          "base_uri": "https://localhost:8080/",
          "height": 375
        },
        "id": "Td5pj4XDyfhW",
        "outputId": "0964c9dd-1801-441c-fc93-9d835c88b786"
      },
      "execution_count": 39,
      "outputs": [
        {
          "output_type": "display_data",
          "data": {
            "text/plain": [
              "<Figure size 640x400 with 1 Axes>"
            ],
            "image/png": "[encoded data removed]"
          },
          "metadata": {}
        }
      ]
    },
    {
      "cell_type": "markdown",
      "source": [
        "#2\n",
        "Для вычисления воспользуйтесь формулой\n",
        "$$\n",
        "M\\frac{|b-a|h^2}{12}<\\epsilon, \\quad M=max|f''(x)|,  \\quad x \\in [a,b]\n",
        "$$\n",
        "Шаг $h$ следует выбирать с учётом дополнительного учловия: отрезок интегрирования должен разбиваться на число частей, кратное 4. Вычисления шага $h$ должный присутствовать в лабораторной работе, в текстовом блоке. Текстовый блок содержит Latex-формулы.\n",
        "\n",
        "Вычислите интеграл по формуле Симпсона с шагами $2h$ и $h$:\n",
        "$$\n",
        "\\int_a^b f(x)dx \\approx \\frac{h}{3} (y_0+y_{2m}+4(y_1+y_3+...+y_{2m-1}) + 2(y_2+y_4+...+y_{2m_2})), \\quad y_i = f(x_i)\n",
        "$$\n",
        "\n",
        "Дайте уточненную оценку погрешности по прравилу Рунге для формуды Симпсона:\n",
        "$$\n",
        "\\Delta \\approx \\frac{1}{15} |I_n-I_{2n}|\n",
        "$$\n",
        "\n",
        "Найдите значение интеграла с помощью функций Python.\n",
        "\n",
        "Вычислите определённый интеграл по формуле Ньютона-Лейбница. (вычисления должны присутствовать в текстовом блоке). Сравните приближённые значения интеграла с точным.\n",
        "\n",
        "\\begin{array}{|c|c|}\n",
        "\\hline\n",
        "f(x) & a & b \\\\\n",
        "\\hline\n",
        "x^2ln(X) & 1 & 2 \\\\\n",
        "\\hline\n",
        "\\end{array}"
      ],
      "metadata": {
        "id": "-9d8BMx44IRy"
      }
    },
    {
      "cell_type": "code",
      "source": [],
      "metadata": {
        "id": "U3uKZ7eY7qZc"
      },
      "execution_count": null,
      "outputs": []
    }
  ]
}