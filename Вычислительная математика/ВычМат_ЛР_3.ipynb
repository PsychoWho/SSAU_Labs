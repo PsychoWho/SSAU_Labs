{
  "nbformat": 4,
  "nbformat_minor": 0,
  "metadata": {
    "colab": {
      "provenance": [],
      "collapsed_sections": [
        "yhMNRjCTpgpZ",
        "H0OX6kx2p7iI",
        "7ZzP3-w2r0cj",
        "HSnqMq5B0RJT"
      ]
    },
    "kernelspec": {
      "name": "python3",
      "display_name": "Python 3"
    },
    "language_info": {
      "name": "python"
    }
  },
  "cells": [
    {
      "cell_type": "markdown",
      "source": [
        "#Лабораторная работа № 3. Решние линейных и нелинейных систем разными методами\n",
        " Вариант №5 \\\\\n",
        " Завадский Никита Валерьевич"
      ],
      "metadata": {
        "id": "hJ03LFpLo8SA"
      }
    },
    {
      "cell_type": "code",
      "source": [
        "import numpy as np\n",
        "import scipy as sp\n",
        "from prettytable import PrettyTable\n",
        "import matplotlib.pyplot as plt"
      ],
      "metadata": {
        "id": "sxJB8RkypMCT"
      },
      "execution_count": null,
      "outputs": []
    },
    {
      "cell_type": "markdown",
      "source": [
        "#1\n",
        "Создать матрицу $4х4$ из случайных целых чисел из отрезка $[-8, 8]$. Методом Грама-Шмидта ортогонализовать первые два столбца матрицы. Найти $QR$ разложение матрицы методом Грама-Шмидта. Проверить методом $np.linalg$\n"
      ],
      "metadata": {
        "id": "yhMNRjCTpgpZ"
      }
    },
    {
      "cell_type": "markdown",
      "source": [
        "создание матрицы"
      ],
      "metadata": {
        "id": "UOA4eCfx1AA-"
      }
    },
    {
      "cell_type": "code",
      "source": [
        "A1 = np.random.randint(-8,8,(4,4))\n",
        "print(A1)"
      ],
      "metadata": {
        "id": "FQvOWyf4ph-R",
        "colab": {
          "base_uri": "https://localhost:8080/"
        },
        "outputId": "800a7213-d8d1-43e1-c296-988a3ac08cf4"
      },
      "execution_count": null,
      "outputs": [
        {
          "output_type": "stream",
          "name": "stdout",
          "text": [
            "[[ 6  7 -6  6]\n",
            " [-5  3  3 -8]\n",
            " [-6 -1  4  0]\n",
            " [-5  0  7  3]]\n"
          ]
        }
      ]
    },
    {
      "cell_type": "markdown",
      "source": [
        "Ортогонализация первых двух столбцов"
      ],
      "metadata": {
        "id": "juF9Cu-ULpoV"
      }
    },
    {
      "cell_type": "code",
      "source": [
        "a1 = A1[:,0]\n",
        "a2 = A1[:,1]\n",
        "\n",
        "g1 = a1\n",
        "g2 = a2 - g1 * ((a2 @ g1) / (g1 @ g1))\n",
        "\n",
        "print(\"Проверка на ортогонализацию:\", g1 @ g2)\n",
        "\n",
        "E = np.zeros((4,4))\n",
        "E[:,0] = g1 / np.linalg.norm(g1)\n",
        "E[:,1] = g2 / np.linalg.norm(g2)\n",
        "print(\"Ортогонализированная матрица: \\n\",E)"
      ],
      "metadata": {
        "colab": {
          "base_uri": "https://localhost:8080/"
        },
        "id": "RybZ0bqbLyo8",
        "outputId": "faf973d5-3c6d-4a08-deb5-f2ba5517c4c2"
      },
      "execution_count": null,
      "outputs": [
        {
          "output_type": "stream",
          "name": "stdout",
          "text": [
            "Проверка на ортогонализацию: -5.329070518200751e-15\n",
            "Ортогонализированная матрица: \n",
            " [[ 0.54321448  0.75986923  0.          0.        ]\n",
            " [-0.45267873  0.61507708  0.          0.        ]\n",
            " [-0.54321448  0.08803363  0.          0.        ]\n",
            " [-0.45267873  0.19112565  0.          0.        ]]\n"
          ]
        }
      ]
    },
    {
      "cell_type": "markdown",
      "source": [
        "функция нахождение $QR$ методом Грама-Шмидта"
      ],
      "metadata": {
        "id": "lf3XYVsL67hS"
      }
    },
    {
      "cell_type": "code",
      "source": [
        "def QR_decay(A):\n",
        "  n, m = A.shape\n",
        "\n",
        "  Q = np.empty((n, n))\n",
        "  u = np.empty((n, n))\n",
        "\n",
        "  u[:, 0] = A[:, 0]\n",
        "  Q[:, 0] = u[:, 0] / np.linalg.norm(u[:, 0])\n",
        "\n",
        "  for i in range(1, n): ## Находим матрицу Q через Алгоритм Грамма-Шмидта\n",
        "\n",
        "      u[:, i] = A[:, i]\n",
        "      for j in range(i):\n",
        "          u[:, i] -= (A[:, i] @ Q[:, j]) * Q[:, j] ## @ - матричное умножение\n",
        "\n",
        "      Q[:, i] = u[:, i] / np.linalg.norm(u[:, i])\n",
        "\n",
        "  R = np.zeros((n, m))\n",
        "  for i in range(n):\n",
        "      for j in range(i, m):\n",
        "          R[i, j] = A[:, j] @ Q[:, i] ## Находим матрицу R\n",
        "\n",
        "  return Q, R"
      ],
      "metadata": {
        "id": "w3oas78i69QG"
      },
      "execution_count": null,
      "outputs": []
    },
    {
      "cell_type": "markdown",
      "source": [
        "находим $QR$ своей функцией"
      ],
      "metadata": {
        "id": "JiObnaPb9utM"
      }
    },
    {
      "cell_type": "code",
      "source": [
        "Q1, R1 = QR_decay(A1)\n",
        "print(\"\\nQ:\\n\", Q1)\n",
        "print(\"\\nR:\\n\", R1)"
      ],
      "metadata": {
        "colab": {
          "base_uri": "https://localhost:8080/"
        },
        "id": "uEy1cL1v8WpW",
        "outputId": "53f38a14-45f5-4748-bd9b-dc6feeca45e0"
      },
      "execution_count": null,
      "outputs": [
        {
          "output_type": "stream",
          "name": "stdout",
          "text": [
            "\n",
            "Q:\n",
            " [[ 0.54321448  0.75986923  0.0601172   0.35199815]\n",
            " [-0.45267873  0.61507708 -0.28100079 -0.58120625]\n",
            " [-0.54321448  0.08803363 -0.42218195  0.72036832]\n",
            " [-0.45267873  0.19112565  0.85975978  0.13916206]]\n",
            "\n",
            "R:\n",
            " [[11.04536102  2.98767962 -9.95893206  5.52268051]\n",
            " [ 0.          7.07628225 -1.02397013  0.21197572]\n",
            " [ 0.          0.          3.12588504  5.18798886]\n",
            " [ 0.          0.          0.          7.17912514]]\n"
          ]
        }
      ]
    },
    {
      "cell_type": "markdown",
      "source": [
        "Проверка QR_decay"
      ],
      "metadata": {
        "id": "sRlJzgdZ93hX"
      }
    },
    {
      "cell_type": "code",
      "source": [
        "Q_np, R_np = np.linalg.qr(A1)\n",
        "print(\"\\nQ:\\n\", Q_np)\n",
        "print(\"\\nR:\\n\", R_np)"
      ],
      "metadata": {
        "colab": {
          "base_uri": "https://localhost:8080/"
        },
        "id": "7zbFCdqf8rkV",
        "outputId": "23efbc68-04d3-4d96-8ec0-015f4731cf12"
      },
      "execution_count": null,
      "outputs": [
        {
          "output_type": "stream",
          "name": "stdout",
          "text": [
            "\n",
            "Q:\n",
            " [[-0.54321448 -0.75986923  0.0601172   0.35199815]\n",
            " [ 0.45267873 -0.61507708 -0.28100079 -0.58120625]\n",
            " [ 0.54321448 -0.08803363 -0.42218195  0.72036832]\n",
            " [ 0.45267873 -0.19112565  0.85975978  0.13916206]]\n",
            "\n",
            "R:\n",
            " [[-11.04536102  -2.98767962   9.95893206  -5.52268051]\n",
            " [  0.          -7.07628225   1.02397013  -0.21197572]\n",
            " [  0.           0.           3.12588504   5.18798886]\n",
            " [  0.           0.           0.           7.17912514]]\n"
          ]
        }
      ]
    },
    {
      "cell_type": "markdown",
      "source": [
        "#2\n",
        "Решить систему с помощью $QR$ разложения матрицы $А$. $QR$ разложение найти методом Грама-Шмидта. Проверить полученное решение непосредственной подстановкой в исходную систему, а также методом $np.solve$\n",
        "$$\\begin{cases}\n",
        "15.7x_1+6.6x_2-5.7x_3+11.5x_4=-2.4\\\\\n",
        "8.8x_1-6.7x_2+5.5x_3-4.5x_4=5.6\\\\\n",
        "6.3x_1-5.7x_2-23.4x_3+6.6x_4=7.7\\\\\n",
        "14.3x_1+8.7x_2-15.7x_3-5.8x_4=23.4\n",
        "\\end{cases}$$"
      ],
      "metadata": {
        "id": "H0OX6kx2p7iI"
      }
    },
    {
      "cell_type": "markdown",
      "source": [
        "создание матриц"
      ],
      "metadata": {
        "id": "y7EUpZNnNPu_"
      }
    },
    {
      "cell_type": "code",
      "source": [
        "A2 = np.array([[15.7, 6.6, -5.7, 11.5],\n",
        "               [8.8, -6.7, 5.5, -4.5],\n",
        "               [6.3, -5.7, -23.4, 6.6],\n",
        "               [14.3, 8.7, -15.7, -5.8]])\n",
        "B2 = np.array([-2.4, 5.6, 7.7, 23.4])\n",
        "print(\"A:\\n\", A2, \"\\nB:\\n\", B2)"
      ],
      "metadata": {
        "id": "esrIjEJ5ruCH",
        "colab": {
          "base_uri": "https://localhost:8080/"
        },
        "outputId": "0c5dc18e-dd25-4dc3-f8f6-09d7336137da"
      },
      "execution_count": null,
      "outputs": [
        {
          "output_type": "stream",
          "name": "stdout",
          "text": [
            "A:\n",
            " [[ 15.7   6.6  -5.7  11.5]\n",
            " [  8.8  -6.7   5.5  -4.5]\n",
            " [  6.3  -5.7 -23.4   6.6]\n",
            " [ 14.3   8.7 -15.7  -5.8]] \n",
            "B:\n",
            " [-2.4  5.6  7.7 23.4]\n"
          ]
        }
      ]
    },
    {
      "cell_type": "markdown",
      "source": [
        "нахождение $QR$ разложение матрицы $A$"
      ],
      "metadata": {
        "id": "nu9UYeW2PEkP"
      }
    },
    {
      "cell_type": "code",
      "source": [
        "Q2, R2 = QR_decay(A2)\n",
        "print(\"Q:\\n\", Q2, \"\\nR:\\n\", R2)"
      ],
      "metadata": {
        "colab": {
          "base_uri": "https://localhost:8080/"
        },
        "id": "MjePIgnMPOcV",
        "outputId": "39a48e80-2b11-4731-f6b5-76dbc933dfdc"
      },
      "execution_count": null,
      "outputs": [
        {
          "output_type": "stream",
          "name": "stdout",
          "text": [
            "Q:\n",
            " [[ 0.65869359  0.22703847  0.22835537  0.68002215]\n",
            " [ 0.36920405 -0.68130742  0.54837989 -0.3143057 ]\n",
            " [ 0.26431654 -0.55799546 -0.7641074   0.18686282]\n",
            " [ 0.59995658  0.41583026 -0.25154165 -0.63550302]] \n",
            "R:\n",
            " [[ 23.83505821   5.58672854 -17.3282564    4.178299  ]\n",
            " [  0.          12.86151096   1.48724863  -0.4177598 ]\n",
            " [  0.           0.          23.54378096  -3.42579006]\n",
            " [  0.           0.           0.          14.15384247]]\n"
          ]
        }
      ]
    },
    {
      "cell_type": "markdown",
      "source": [
        "решаем систему $RX = Q^{T}B$"
      ],
      "metadata": {
        "id": "rlchX73PP3M_"
      }
    },
    {
      "cell_type": "code",
      "source": [
        "def reverse(A,B):\n",
        "  n = np.size(B)\n",
        "  x = np.zeros_like(B)\n",
        "  for i in range(n-1, -1, -1): x[i] = (B[i] - np.sum(A[i,i+1:] * x[i+1:]))/A[i,i]\n",
        "  return x"
      ],
      "metadata": {
        "id": "BlaKK1_IQKUA"
      },
      "execution_count": null,
      "outputs": []
    },
    {
      "cell_type": "code",
      "source": [
        "X2 = reverse(R2, Q2.T @ B2)\n",
        "print(X2)"
      ],
      "metadata": {
        "colab": {
          "base_uri": "https://localhost:8080/"
        },
        "id": "N-_kBOOtRoWg",
        "outputId": "cfecdee3-5e49-46ad-8a86-f3321924b976"
      },
      "execution_count": null,
      "outputs": [
        {
          "output_type": "stream",
          "name": "stdout",
          "text": [
            "[ 0.46606121  0.11028446 -0.56570877 -1.188659  ]\n"
          ]
        }
      ]
    },
    {
      "cell_type": "markdown",
      "source": [
        "проверяем полученное решение непосредственной подстановкой в исходную систему"
      ],
      "metadata": {
        "id": "tq5GKWi2THS4"
      }
    },
    {
      "cell_type": "code",
      "source": [
        "print(\"AX:\", A2 @ X2, \"\\n B:\", B2)"
      ],
      "metadata": {
        "colab": {
          "base_uri": "https://localhost:8080/"
        },
        "id": "26aFMSJzTP6j",
        "outputId": "0a87c724-7e61-4e32-d2ee-c12ce39e497b"
      },
      "execution_count": null,
      "outputs": [
        {
          "output_type": "stream",
          "name": "stdout",
          "text": [
            "AX: [-2.4  5.6  7.7 23.4] \n",
            " B: [-2.4  5.6  7.7 23.4]\n"
          ]
        }
      ]
    },
    {
      "cell_type": "markdown",
      "source": [
        "проверяем полученное решение методом $np.solve$"
      ],
      "metadata": {
        "id": "6oqpEULXTl51"
      }
    },
    {
      "cell_type": "code",
      "source": [
        "print(\"       X:\", X2, \"\\nnp.solve:\", np.linalg.solve(A2, B2))"
      ],
      "metadata": {
        "colab": {
          "base_uri": "https://localhost:8080/"
        },
        "id": "OV1hccXvTpDg",
        "outputId": "c4cf1c79-b665-41d9-bcd4-1402400de644"
      },
      "execution_count": null,
      "outputs": [
        {
          "output_type": "stream",
          "name": "stdout",
          "text": [
            "       X: [ 0.46606121  0.11028446 -0.56570877 -1.188659  ] \n",
            "np.solve: [ 0.46606121  0.11028446 -0.56570877 -1.188659  ]\n"
          ]
        }
      ]
    },
    {
      "cell_type": "markdown",
      "source": [
        "#3\n",
        "Решить систему методом Зейделя с точностью до $10^{-3}$. Проверить выполнение достаточного условия сходимости. Если условие не выполняется, в программе выполнить эквивалентные реобразования системы, после этого привести к удобному для итераций виду. Оформить итерации в виде таблицы (можно пользоваться модулями PrettyTable или Pandas). Проверить полученное решение.\n",
        "$$\\begin{cases}\n",
        "6.15x_1-1.72x_2-1.23x_3=2.15\\\\\n",
        "0.72x_1+5.67x_2+1.18x_3=1.43\\\\\n",
        "2.57x_1-1.34x_2-3.68x_3=1.03\n",
        "\\end{cases}$$\n"
      ],
      "metadata": {
        "id": "7ZzP3-w2r0cj"
      }
    },
    {
      "cell_type": "markdown",
      "source": [
        "создаём матрицы"
      ],
      "metadata": {
        "id": "5rLeKCzyX2U0"
      }
    },
    {
      "cell_type": "code",
      "source": [
        "A3 = np.array([[6.15, -1.72, -1.23],\n",
        "               [0.72, 5.67, 1.18],\n",
        "               [2.57, -1.34, -3.68]])\n",
        "B3 = np.array([2.15, 1.43, 1.03])\n",
        "e = 1e-3\n",
        "print(\"A:\\n\", A3, \"\\nB:\\n\", B3)"
      ],
      "metadata": {
        "id": "SW6k_c0SvFU8",
        "colab": {
          "base_uri": "https://localhost:8080/"
        },
        "outputId": "93ebceba-8f3c-43ea-eb36-9d0e20554b2c"
      },
      "execution_count": null,
      "outputs": [
        {
          "output_type": "stream",
          "name": "stdout",
          "text": [
            "A:\n",
            " [[ 6.15 -1.72 -1.23]\n",
            " [ 0.72  5.67  1.18]\n",
            " [ 2.57 -1.34 -3.68]] \n",
            "B:\n",
            " [2.15 1.43 1.03]\n"
          ]
        }
      ]
    },
    {
      "cell_type": "markdown",
      "source": [
        "Преобразование системы к виду $X^{k+1}=D_1X^{k+1}+D_2X^k+C$"
      ],
      "metadata": {
        "id": "HlLz0xpC0EU4"
      }
    },
    {
      "cell_type": "code",
      "source": [
        "n = len(B3)\n",
        "C = np.array([B3[i]/A3[i][i] for i in range(n)])\n",
        "D1 = np.zeros_like(A3)\n",
        "D2 = np.zeros_like(A3)\n",
        "for i in range(n):\n",
        "  for j in range(n):\n",
        "    d = -A3[i][j] / A3[i][i]\n",
        "    if i > j: D1[i][j] = d\n",
        "    if i < j: D2[i][j] = d\n",
        "\n",
        "print(\"D1:\\n\", D1, \"\\nD2:\\n\", D2, \"\\nC:\\n\", C)"
      ],
      "metadata": {
        "colab": {
          "base_uri": "https://localhost:8080/"
        },
        "id": "2mKK_o5FwFrL",
        "outputId": "5b427201-170f-4353-c6e5-cca0a6cd0a7d"
      },
      "execution_count": null,
      "outputs": [
        {
          "output_type": "stream",
          "name": "stdout",
          "text": [
            "D1:\n",
            " [[ 0.          0.          0.        ]\n",
            " [-0.12698413  0.          0.        ]\n",
            " [ 0.69836957 -0.36413043  0.        ]] \n",
            "D2:\n",
            " [[ 0.          0.2796748   0.2       ]\n",
            " [ 0.          0.         -0.20811287]\n",
            " [ 0.          0.          0.        ]] \n",
            "C:\n",
            " [ 0.3495935   0.25220459 -0.2798913 ]\n"
          ]
        }
      ]
    },
    {
      "cell_type": "markdown",
      "source": [
        "проверка сходимости метода ($max|d_{ij}$|<1)\n",
        "\n"
      ],
      "metadata": {
        "id": "9046zuppKukW"
      }
    },
    {
      "cell_type": "code",
      "source": [
        "D = D1 + D2\n",
        "d_max = np.max(np.abs(D))\n",
        "if d_max < 1: print(d_max, \"< 1 => метод сходиться\")\n",
        "else: print(d_max, \"> 1 => метод не сходиться\")"
      ],
      "metadata": {
        "colab": {
          "base_uri": "https://localhost:8080/"
        },
        "id": "xX0IoisOLK2v",
        "outputId": "5d4c8214-c00e-4011-c4b7-90c94981ac45"
      },
      "execution_count": null,
      "outputs": [
        {
          "output_type": "stream",
          "name": "stdout",
          "text": [
            "0.6983695652173912 < 1 => метод сходиться\n"
          ]
        }
      ]
    },
    {
      "cell_type": "markdown",
      "source": [
        "функция для итерационного вычисления"
      ],
      "metadata": {
        "id": "yl_OkJqv3npz"
      }
    },
    {
      "cell_type": "code",
      "source": [
        "def iter(X_old):\n",
        "  X_new = np.zeros_like(X_old)\n",
        "  for i in range(n):\n",
        "    X_new[i] = C[i] + D1[i] @ X_new + D2[i] @ X_old\n",
        "  return X_new"
      ],
      "metadata": {
        "id": "XlY-RqLz3uuV"
      },
      "execution_count": null,
      "outputs": []
    },
    {
      "cell_type": "markdown",
      "source": [
        "решаем систему с точностью до $10^{-3}$"
      ],
      "metadata": {
        "id": "tJXPDTk16a14"
      }
    },
    {
      "cell_type": "code",
      "source": [
        "table = PrettyTable()\n",
        "table.field_names = [\"Iter\"] + [f\"x_{i+1}\" for i in range(n)] + [\"norma(x_k - x_k-1)\"]\n",
        "\n",
        "i = 0\n",
        "norma = np.inf\n",
        "x_old = np.zeros(n)\n",
        "\n",
        "table.add_row([i] + [x_old[i] for i in range(len(x_old))] + [''])\n",
        "\n",
        "while e < norma:\n",
        "  i += 1\n",
        "  x_new = iter(x_old)\n",
        "  norma = np.max(np.abs(x_new - x_old))\n",
        "  table.add_row([i] + [x_new[j] for j in range(3)] + [norma])\n",
        "  x_old = x_new.copy()\n",
        "\n",
        "\n",
        "print(table)"
      ],
      "metadata": {
        "colab": {
          "base_uri": "https://localhost:8080/"
        },
        "id": "RY35vMgt6l9C",
        "outputId": "2cb23e73-2bd2-4001-cc20-2d8338ea2474"
      },
      "execution_count": null,
      "outputs": [
        {
          "output_type": "stream",
          "name": "stdout",
          "text": [
            "+------+--------------------+---------------------+----------------------+-----------------------+\n",
            "| Iter |        x_1         |         x_2         |         x_3          |   norma(x_k - x_k-1)  |\n",
            "+------+--------------------+---------------------+----------------------+-----------------------+\n",
            "|  0   |        0.0         |         0.0         |         0.0          |                       |\n",
            "|  1   | 0.3495934959349593 |  0.2078117606572891 | -0.11141643334997883 |   0.3495934959349593  |\n",
            "|  2   | 0.3854299211886281 |  0.2264482977243673 | -0.09317549497170602 |  0.03583642525366881  |\n",
            "|  3   | 0.3942902785806038 |  0.2215269988516011 | -0.08519569633396576 |  0.00886035739197566  |\n",
            "|  4   | 0.3945098750461749 | 0.21983841475146976 | -0.08442747198323375 | 0.0016885841001313406 |\n",
            "|  5   | 0.3941912655013252 | 0.21971899572826484 | -0.08460649509170359 | 0.0003186095448496906 |\n",
            "+------+--------------------+---------------------+----------------------+-----------------------+\n"
          ]
        }
      ]
    },
    {
      "cell_type": "markdown",
      "source": [
        "проверка решения"
      ],
      "metadata": {
        "id": "xCS1__nT94kw"
      }
    },
    {
      "cell_type": "code",
      "source": [
        "print((A3@x_new)-B3)"
      ],
      "metadata": {
        "colab": {
          "base_uri": "https://localhost:8080/"
        },
        "id": "FH_V697P96iB",
        "outputId": "115df34c-9c82-4f9a-9f33-eb7cc24333cc"
      },
      "execution_count": null,
      "outputs": [
        {
          "output_type": "stream",
          "name": "stdout",
          "text": [
            "[ 0.0004256  -0.00021125  0.        ]\n"
          ]
        }
      ]
    },
    {
      "cell_type": "markdown",
      "source": [
        "#4\n",
        "Решить нелинейное уравнение методом хорд с точностью $10^{-4}$ и комбинированным методом с точностью $10^{-5}$. До решения отделить корни графическим методом, проверить выполнение условий метода.\n",
        "\n",
        "$-2.7x^3-1.48x^2+19.23x+6.35,\\ x\\in[-4, 4]$\n"
      ],
      "metadata": {
        "id": "2ds2gegwvFyY"
      }
    },
    {
      "cell_type": "markdown",
      "source": [
        "определим функцию"
      ],
      "metadata": {
        "id": "ypwg2Q4nWX_R"
      }
    },
    {
      "cell_type": "code",
      "source": [
        "def f(x):\n",
        "    return -2.7 * x**3 - 1.48 * x**2 + 19.23 * x + 6.35"
      ],
      "metadata": {
        "id": "aC33qc8mWYtz"
      },
      "execution_count": null,
      "outputs": []
    },
    {
      "cell_type": "markdown",
      "source": [
        "стоим график функции"
      ],
      "metadata": {
        "id": "-65T8hziQHFo"
      }
    },
    {
      "cell_type": "code",
      "source": [
        "x = np.linspace(-4, 4, 400)\n",
        "y = f(x)\n",
        "\n",
        "plt.figure(figsize=(8, 5), dpi=80)\n",
        "plt.plot(x, y, label=r'$f(x) = -2.7x^3 - 1.48x^2 + 19.23x + 6.35$', color='blue')\n",
        "plt.title('График кубической функции')\n",
        "plt.ylim(-40, 40)\n",
        "plt.grid()\n",
        "plt.legend()\n",
        "plt.axhline(0, color='black', linewidth=0.5)\n",
        "plt.axvline(0, color='black', linewidth=0.5)\n",
        "plt.show()"
      ],
      "metadata": {
        "id": "xSujyT9b0Qip",
        "colab": {
          "base_uri": "https://localhost:8080/",
          "height": 375
        },
        "outputId": "b6429e88-6db6-40db-91e4-18c4c32b2b85"
      },
      "execution_count": null,
      "outputs": [
        {
          "output_type": "display_data",
          "data": {
            "text/plain": [
              "<Figure size 640x400 with 1 Axes>"
            ],
            "image/png": "[encoded data removed]"
          },
          "metadata": {}
        }
      ]
    },
    {
      "cell_type": "markdown",
      "source": [
        "На интервале [2,3] функция имеет единственное решение.\n",
        "Проверим условия сходимости для каждого метода"
      ],
      "metadata": {
        "id": "lPjnDEgVTqwX"
      }
    },
    {
      "cell_type": "code",
      "source": [
        "a, b = 2, 3\n",
        "x = np.linspace(a, b, 100)\n",
        "df = np.gradient(f(x), x)\n",
        "d2f = np.gradient(df, x)\n",
        "\n",
        "sgn = (f(a)*f(b)<0)\n",
        "dif1 = (np.all(df)>0 or np.all(df)<0)\n",
        "dif2 = (np.all(d2f)>0 or np.all(d2f)<0)\n",
        "\n",
        "if sgn and dif1 and dif2: print(\"методы сходятся\")\n",
        "else: print(\"методы не сходятся\")"
      ],
      "metadata": {
        "colab": {
          "base_uri": "https://localhost:8080/"
        },
        "id": "HWW29IwHUJA1",
        "outputId": "246943e9-82cf-4df6-ae4f-99e1c9084ff1"
      },
      "execution_count": null,
      "outputs": [
        {
          "output_type": "stream",
          "name": "stdout",
          "text": [
            "методы сходятся\n"
          ]
        }
      ]
    },
    {
      "cell_type": "markdown",
      "source": [
        "**МЕТОД ХОРД**\n",
        "\n",
        "---\n",
        "\n",
        "\n",
        "выбираем формулу для вычисления проверкой $f'f'' < 0$ или $f'f'' > 0$"
      ],
      "metadata": {
        "id": "Usse7N5_EyVE"
      }
    },
    {
      "cell_type": "code",
      "source": [
        "dif = np.all(df)*np.all(d2f)\n",
        "if dif < 0: print(\"f'f'' < 0\")\n",
        "else: print(\"f'f'' > 0\")"
      ],
      "metadata": {
        "id": "INZ4_FN9HJ0o",
        "colab": {
          "base_uri": "https://localhost:8080/"
        },
        "outputId": "5f6e383a-8690-4ec3-f1ca-1332fccc6d87"
      },
      "execution_count": null,
      "outputs": [
        {
          "output_type": "stream",
          "name": "stdout",
          "text": [
            "f'f'' > 0\n"
          ]
        }
      ]
    },
    {
      "cell_type": "markdown",
      "source": [
        "$f'f''>0 =>$ используем формулу: $$x_{n+1}=x_n-\\frac{(b-x_n)f(x_n)}{f(b)-f(x_n)}$$  \n",
        " $$$$ Напишем функцию для вычисления $x_{n+1}$ по данной формуле"
      ],
      "metadata": {
        "id": "wvMkkpSW_DMw"
      }
    },
    {
      "cell_type": "code",
      "source": [
        "def iter_hord(x):\n",
        "  return x - ((b - x) * f(x))/(f(b) - f(x))"
      ],
      "metadata": {
        "id": "kc0MLgF5Gz-w"
      },
      "execution_count": null,
      "outputs": []
    },
    {
      "cell_type": "markdown",
      "source": [
        "решаем методом хорд и для оценки точности приближения воспользуемся формулой: $|x_n-x_{n-1}|<10^{-4}$"
      ],
      "metadata": {
        "id": "R8b6koKlIk5T"
      }
    },
    {
      "cell_type": "code",
      "source": [
        "table = PrettyTable()\n",
        "table.field_names = [\"Iter\"] + [\"x\"] + [\"|x_n - x_n-1|\"]\n",
        "\n",
        "e = 1e-4\n",
        "i = 0\n",
        "n = np.inf\n",
        "x_old = a\n",
        "\n",
        "table.add_row([i] + [x_old] + ['-'])\n",
        "\n",
        "while e < n:\n",
        "  i += 1\n",
        "  x_new = iter_hord(x_old)\n",
        "  n = np.abs(x_new - x_old)\n",
        "  table.add_row([i] + [x_new] + [n])\n",
        "  x_old = x_new\n",
        "\n",
        "\n",
        "print(table)\n",
        "print()\n",
        "res_hord = x_new\n",
        "print(\"Ответ методом хорд:\", res_hord)"
      ],
      "metadata": {
        "colab": {
          "base_uri": "https://localhost:8080/"
        },
        "id": "-jMdELFXCO9B",
        "outputId": "ce0efcb1-161d-4460-ce08-7b1c0066c849"
      },
      "execution_count": null,
      "outputs": [
        {
          "output_type": "stream",
          "name": "stdout",
          "text": [
            "+------+--------------------+------------------------+\n",
            "| Iter |         x          |     |x_n - x_n-1|      |\n",
            "+------+--------------------+------------------------+\n",
            "|  0   |         2          |           -            |\n",
            "|  1   | 2.4380542183937166 |   0.4380542183937166   |\n",
            "|  2   | 2.5465664038848144 |  0.10851218549109776   |\n",
            "|  3   | 2.5686134787130537 |  0.02204707482823931   |\n",
            "|  4   | 2.5728973537239734 |  0.004283875010919758  |\n",
            "|  5   | 2.573722377650408  |  0.000825023926434465  |\n",
            "|  6   | 2.5738809948205756 | 0.0001586171701677408  |\n",
            "|  7   | 2.5739114801069336 | 3.0485286357961883e-05 |\n",
            "+------+--------------------+------------------------+\n",
            "\n",
            "Ответ методом хорд: 2.5739114801069336\n"
          ]
        }
      ]
    },
    {
      "cell_type": "markdown",
      "source": [
        "**КОМБИНИРОВАННЫЙ МЕТОД**\n",
        "\n",
        "---\n",
        "\n",
        "\n",
        "выбираем формулу для вычисления проверкой $f'f'' < 0$ или $f'f'' > 0$ $$$$ Аналогично с методом хорд $f'f'' > 0$, а значит воспользуемся формулами: $$a_{n+1}=a_n-\\frac{f(a_n)(b_n-a_n)}{f(b_n)-f(a_n)}; \\qquad b_{n+1}=b_n-\\frac{f(b_n)}{f'(b_n)}$$ $$$$ Напишем функции для данных формул и аналитическую производную для данного в задании уравнения"
      ],
      "metadata": {
        "id": "_SdOZjs1Jk-j"
      }
    },
    {
      "cell_type": "code",
      "source": [
        "def diff_f(x): return -8.1 * x**2 - 2.96 * x + 19.23\n",
        "\n",
        "def a_komb(a,b):\n",
        "  return a - (f(a) * (b - a))/(f(b) - f(a))\n",
        "\n",
        "def b_komb(b):\n",
        "  return b - f(b)/diff_f(b)"
      ],
      "metadata": {
        "id": "9Qn3l-UXLw7M"
      },
      "execution_count": null,
      "outputs": []
    },
    {
      "cell_type": "markdown",
      "source": [
        "решаем комбинированным методом и для оценки точности приближения воспользуемся формулой: $b - a<10^{-5}$"
      ],
      "metadata": {
        "id": "7R49wKpZPU9E"
      }
    },
    {
      "cell_type": "code",
      "source": [
        "table = PrettyTable()\n",
        "table.field_names = [\"Iter\"] + [\"a\"] + [\"b\"] +[\"b - a\"]\n",
        "\n",
        "e = 1e-5\n",
        "i = 0\n",
        "j = np.inf\n",
        "a_old, b_old = a, b\n",
        "\n",
        "table.add_row([i] + [a_old] + [b_old] + ['-'])\n",
        "\n",
        "while e < j:\n",
        "  i += 1\n",
        "  a_new = a_komb(a_old, b_old)\n",
        "  b_new = b_komb(b_old)\n",
        "  j = b_new - a_new\n",
        "  table.add_row([i] + [a_new] + [b_new] + [j])\n",
        "  a_old, b_old = a_new, b_new\n",
        "\n",
        "print(table)\n",
        "print()\n",
        "res_komb = (a_new + b_new)/2\n",
        "print(\"Ответ комбинированным методом:\", res_komb)"
      ],
      "metadata": {
        "colab": {
          "base_uri": "https://localhost:8080/"
        },
        "id": "Z9jYcJ-KPfTf",
        "outputId": "dde24e4f-d918-4b21-e129-f4508ba76ffd"
      },
      "execution_count": null,
      "outputs": [
        {
          "output_type": "stream",
          "name": "stdout",
          "text": [
            "+------+--------------------+--------------------+------------------------+\n",
            "| Iter |         a          |         b          |         b - a          |\n",
            "+------+--------------------+--------------------+------------------------+\n",
            "|  0   |         2          |         3          |           -            |\n",
            "|  1   | 2.4380542183937166 | 2.6454036770583533 |  0.20734945866463672   |\n",
            "|  2   | 2.5686256044820825 | 2.5764819072717478 |  0.007856302789665204  |\n",
            "|  3   | 2.573911520593982  | 2.573922213772869  | 1.0693178886800325e-05 |\n",
            "|  4   | 2.5739187325958426 | 2.573918732615608  | 1.9765522552006587e-11 |\n",
            "+------+--------------------+--------------------+------------------------+\n",
            "\n",
            "Ответ комбинированным методом: 2.5739187326057253\n"
          ]
        }
      ]
    },
    {
      "cell_type": "markdown",
      "source": [
        "сравним результаты:"
      ],
      "metadata": {
        "id": "L2pDp3TESknv"
      }
    },
    {
      "cell_type": "code",
      "source": [
        "print(res_hord)\n",
        "print(res_komb)"
      ],
      "metadata": {
        "colab": {
          "base_uri": "https://localhost:8080/"
        },
        "id": "ii3XviwdSnk3",
        "outputId": "e2003ba8-14cb-4ea4-eec9-251197fc8ea5"
      },
      "execution_count": null,
      "outputs": [
        {
          "output_type": "stream",
          "name": "stdout",
          "text": [
            "2.5739114801069336\n",
            "2.5739187326057253\n"
          ]
        }
      ]
    },
    {
      "cell_type": "markdown",
      "source": [
        "Проверим решения методами numpy:"
      ],
      "metadata": {
        "id": "Jujk52l3XYv4"
      }
    },
    {
      "cell_type": "code",
      "source": [
        "roots = np.roots([-2.7, -1.48, 19.23, 6.35])\n",
        "\n",
        "for i in roots:\n",
        "  if 2 <= i <= 3:\n",
        "    print(\"Корни уравнения на [2, 3]:\", i)"
      ],
      "metadata": {
        "colab": {
          "base_uri": "https://localhost:8080/"
        },
        "id": "gYhOt4ReUmKx",
        "outputId": "902c80ef-afe1-4494-916e-c733dfa79a50"
      },
      "execution_count": null,
      "outputs": [
        {
          "output_type": "stream",
          "name": "stdout",
          "text": [
            "Корни уравнения на [2, 3]: 2.5739187326091733\n"
          ]
        }
      ]
    },
    {
      "cell_type": "markdown",
      "source": [
        "#5\n",
        "Решить систему нелинейных уравнений методом Ньютона с точностью $10^{-4}$\n",
        "$$\\begin{cases}\n",
        "sin(x+1.5)-y+2.9=0\\\\\n",
        "cos(y-2)+x=0\n",
        "\\end{cases}\n",
        "$$"
      ],
      "metadata": {
        "id": "HSnqMq5B0RJT"
      }
    },
    {
      "cell_type": "markdown",
      "source": [
        "рисуем графики функций"
      ],
      "metadata": {
        "id": "zixcf6Qit8FA"
      }
    },
    {
      "cell_type": "code",
      "source": [
        "x1 = np.linspace(-4, 4, 400)\n",
        "y1 = np.sin(x1 + 1.5) + 2.9\n",
        "\n",
        "y2 = np.linspace(-6,6, 400)\n",
        "x2 = -np.cos(y2 - 2)\n",
        "\n",
        "plt.figure(figsize=(8, 5), dpi=80)\n",
        "plt.plot(x1, y1, label=r'$sin(x+1.5)-y+2.9=0$', color='blue')\n",
        "plt.plot(x2, y2, label=r'$cos(y-2)+x=0$', color='red')\n",
        "plt.title('График системы уравнений')\n",
        "plt.ylim(-3, 6)\n",
        "plt.xlim(-4,4)\n",
        "plt.grid()\n",
        "plt.legend()\n",
        "plt.axhline(0, color='black', linewidth=0.5)\n",
        "plt.axvline(0, color='black', linewidth=0.5)\n",
        "plt.show()"
      ],
      "metadata": {
        "id": "aNqRGyb005Sm",
        "colab": {
          "base_uri": "https://localhost:8080/",
          "height": 375
        },
        "outputId": "c40a10de-4341-4476-c83c-9d3f9fc2560c"
      },
      "execution_count": null,
      "outputs": [
        {
          "output_type": "display_data",
          "data": {
            "text/plain": [
              "<Figure size 640x400 with 1 Axes>"
            ],
            "image/png": "[encoded data removed]"
          },
          "metadata": {}
        }
      ]
    },
    {
      "cell_type": "markdown",
      "source": [
        "по графику видно что решение лежит в $\\quad x \\in [0,1], \\quad y \\in [3,4], \\quad$, причём по $x$ ближе к 0, а по $y$ ближе к 4, поэтому выберем начальное приближение в точке (0, 4)\n",
        "\n",
        "---\n",
        "\n",
        "Матрица Якоби будет выглядить так:\n",
        "$$J =\n",
        "\\begin{vmatrix}\n",
        "cos(x + 1.5) & -1\\\\\n",
        "1 & -sin(y - 2)\n",
        "\\end{vmatrix}$$\n",
        "Напишем функцию для её вычисленя и функцию системы"
      ],
      "metadata": {
        "id": "HJrmmi_1zczY"
      }
    },
    {
      "cell_type": "code",
      "source": [
        "def F(x,y):\n",
        "  return np.array([np.sin(x+1.5) - y + 2.9,\n",
        "                   np.cos(y-2) + x])\n",
        "\n",
        "def J(x,y):\n",
        "  return np.array([[np.cos(x+1.5), -1],\n",
        "                   [1, -np.sin(y-2)]])\n",
        "\n",
        "#началное приближение\n",
        "x0, y0 = 0, 4\n",
        "print(\"F:\\n\", F(x0,y0))\n",
        "print()\n",
        "print(\"J:\\n\", J(x0,y0))"
      ],
      "metadata": {
        "colab": {
          "base_uri": "https://localhost:8080/"
        },
        "id": "lJUdPY3dEyxV",
        "outputId": "84a0c80f-b568-411a-953a-12d8f734544f"
      },
      "execution_count": null,
      "outputs": [
        {
          "output_type": "stream",
          "name": "stdout",
          "text": [
            "F:\n",
            " [-0.10250501 -0.41614684]\n",
            "\n",
            "J:\n",
            " [[ 0.0707372  -1.        ]\n",
            " [ 1.         -0.90929743]]\n"
          ]
        }
      ]
    },
    {
      "cell_type": "markdown",
      "source": [
        "напишем функцию для решения методом Крамера"
      ],
      "metadata": {
        "id": "LJmx_slWJrii"
      }
    },
    {
      "cell_type": "code",
      "source": [
        "def cramer(A, b):\n",
        "  det_A = np.linalg.det(A)\n",
        "\n",
        "  n = len(b)\n",
        "  x = np.zeros(n)\n",
        "\n",
        "  for i in range(n):\n",
        "      A_i = A.copy()\n",
        "      A_i[:, i] = b\n",
        "      x[i] = np.linalg.det(A_i) / det_A\n",
        "\n",
        "  return x"
      ],
      "metadata": {
        "id": "Z3h4QcejJviD"
      },
      "execution_count": null,
      "outputs": []
    },
    {
      "cell_type": "markdown",
      "source": [
        "решаем систему"
      ],
      "metadata": {
        "id": "HuhEyJrIK6vP"
      }
    },
    {
      "cell_type": "code",
      "source": [
        "print(\"моя функция: \", cramer(J(x0,y0), -F(x0,y0)))\n",
        "print(\"встроенная:  \", np.linalg.solve(J(x0,y0), -F(x0,y0)))"
      ],
      "metadata": {
        "colab": {
          "base_uri": "https://localhost:8080/"
        },
        "id": "r4aVKXe9K8yk",
        "outputId": "b83b7c34-ed5b-4074-c430-8f04aa99f561"
      },
      "execution_count": null,
      "outputs": [
        {
          "output_type": "stream",
          "name": "stdout",
          "text": [
            "моя функция:  [ 0.34513903 -0.07809084]\n",
            "встроенная:   [ 0.34513903 -0.07809084]\n"
          ]
        }
      ]
    },
    {
      "cell_type": "markdown",
      "source": [
        "Составляем итерационную систему."
      ],
      "metadata": {
        "id": "LQeaJJq8L32M"
      }
    },
    {
      "cell_type": "code",
      "source": [
        "table = PrettyTable()\n",
        "table.field_names = [\"Iter\"] + [\"x\"] + [\"y\"] + [\"norma\"]\n",
        "\n",
        "e = 1e-4\n",
        "i = 0\n",
        "norma = np.inf\n",
        "x, y = x0, y0\n",
        "\n",
        "table.add_row([i] + [x] + [y] + ['-'])\n",
        "\n",
        "while e < norma:\n",
        "  i += 1\n",
        "  delta = cramer(J(x,y), -F(x,y))\n",
        "  dx, dy = delta\n",
        "  norma = np.max(np.abs(delta))\n",
        "  x += dx\n",
        "  y += dy\n",
        "  table.add_row([i] + [x] + [y] + [norma])\n",
        "\n",
        "print(table)\n",
        "print(\"\\nКоличество операций:\",i)\n",
        "print(\"x:\", x, \"| y:\",y)"
      ],
      "metadata": {
        "colab": {
          "base_uri": "https://localhost:8080/"
        },
        "id": "0g2IHy0FPHhQ",
        "outputId": "43c05f86-4971-4181-e453-b9982774aaa7"
      },
      "execution_count": null,
      "outputs": [
        {
          "output_type": "stream",
          "name": "stdout",
          "text": [
            "+------+---------------------+--------------------+-----------------------+\n",
            "| Iter |          x          |         y          |         norma         |\n",
            "+------+---------------------+--------------------+-----------------------+\n",
            "|  0   |          0          |         4          |           -           |\n",
            "|  1   | 0.34513903302719884 | 3.9219091559866954 |  0.34513903302719884  |\n",
            "|  2   |  0.2997913075766877 |  3.87488882231644  |  0.047020333670255106 |\n",
            "|  3   |  0.2987128145957294 | 3.8741398416987494 |  0.001078492980958289 |\n",
            "|  4   | 0.29871230087498796 | 3.8741393913341238 | 5.137207414214473e-07 |\n",
            "+------+---------------------+--------------------+-----------------------+\n",
            "\n",
            "Количество операций: 4\n",
            "x: 0.29871230087498796 | y: 3.8741393913341238\n"
          ]
        }
      ]
    },
    {
      "cell_type": "markdown",
      "source": [
        "Решим встроенными функциями"
      ],
      "metadata": {
        "id": "wkK4aejwTT_v"
      }
    },
    {
      "cell_type": "code",
      "source": [
        "def F_sp(v):\n",
        "  x, y = v\n",
        "  return F(x,y)\n",
        "\n",
        "x_sp, y_sp = sp.optimize.fsolve(F_sp, [0,4])\n",
        "print(\"x:\", x_sp, \"| y:\",y_sp)"
      ],
      "metadata": {
        "colab": {
          "base_uri": "https://localhost:8080/"
        },
        "id": "gw7cpDZCTbGT",
        "outputId": "c06cb38f-6681-4a68-adf0-91c24acdb721"
      },
      "execution_count": null,
      "outputs": [
        {
          "output_type": "stream",
          "name": "stdout",
          "text": [
            "x: 0.29871230087486145 | y: 3.8741393913340234\n"
          ]
        }
      ]
    }
  ]
}