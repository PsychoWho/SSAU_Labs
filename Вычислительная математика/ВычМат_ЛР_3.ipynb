{
  "nbformat": 4,
  "nbformat_minor": 0,
  "metadata": {
    "colab": {
      "provenance": [],
      "collapsed_sections": [
        "yhMNRjCTpgpZ",
        "H0OX6kx2p7iI",
        "2ds2gegwvFyY",
        "HSnqMq5B0RJT"
      ]
    },
    "kernelspec": {
      "name": "python3",
      "display_name": "Python 3"
    },
    "language_info": {
      "name": "python"
    }
  },
  "cells": [
    {
      "cell_type": "markdown",
      "source": [
        "#Лабораторная работа № 3. Решние линейных и нелинейных систем разными методами\n",
        " Вариант №5 \\\\\n",
        " Завадский Никита Валерьевич"
      ],
      "metadata": {
        "id": "hJ03LFpLo8SA"
      }
    },
    {
      "cell_type": "code",
      "source": [
        "import numpy as np\n",
        "from prettytable import PrettyTable"
      ],
      "metadata": {
        "id": "sxJB8RkypMCT"
      },
      "execution_count": 1,
      "outputs": []
    },
    {
      "cell_type": "markdown",
      "source": [
        "#1\n",
        "Создать матрицу $4х4$ из случайных целых чисел из отрезка $[-8, 8]$. Методом Грама-Шмидта ортогонализовать первые два столбца матрицы. Найти $QR$ разложение матрицы методом Грама-Шмидта. Проверить методом $np.linalg$\n"
      ],
      "metadata": {
        "id": "yhMNRjCTpgpZ"
      }
    },
    {
      "cell_type": "markdown",
      "source": [
        "создание матрицы"
      ],
      "metadata": {
        "id": "UOA4eCfx1AA-"
      }
    },
    {
      "cell_type": "code",
      "source": [
        "A1 = np.random.randint(-8,8,(4,4))\n",
        "print(A1)"
      ],
      "metadata": {
        "id": "FQvOWyf4ph-R",
        "colab": {
          "base_uri": "https://localhost:8080/"
        },
        "outputId": "5e9bc2cb-27c7-44ae-9ab1-35d8686993d0"
      },
      "execution_count": 2,
      "outputs": [
        {
          "output_type": "stream",
          "name": "stdout",
          "text": [
            "[[-6  5 -4  5]\n",
            " [-7 -6 -6  6]\n",
            " [-7 -5 -5 -6]\n",
            " [ 5 -4  1 -7]]\n"
          ]
        }
      ]
    },
    {
      "cell_type": "markdown",
      "source": [
        "Ортогонализация первых двух столбцов"
      ],
      "metadata": {
        "id": "juF9Cu-ULpoV"
      }
    },
    {
      "cell_type": "code",
      "source": [
        "a1 = A1[:,0]\n",
        "a2 = A1[:,1]\n",
        "\n",
        "g1 = a1\n",
        "g2 = a2 - g1 * ((a2 @ g1) / (g1 @ g1))\n",
        "\n",
        "print(\"Проверка на ортогонализацию:\", g1 @ g2)\n",
        "\n",
        "E = np.zeros((4,4))\n",
        "E[:,0] = g1 / np.linalg.norm(g1)\n",
        "E[:,1] = g2 / np.linalg.norm(g2)\n",
        "print(\"Ортогонализированная матрица: \\n\",E)"
      ],
      "metadata": {
        "colab": {
          "base_uri": "https://localhost:8080/"
        },
        "id": "RybZ0bqbLyo8",
        "outputId": "23bb2134-8741-4ffc-e09f-c1359257f37a"
      },
      "execution_count": 3,
      "outputs": [
        {
          "output_type": "stream",
          "name": "stdout",
          "text": [
            "Проверка на ортогонализацию: -3.552713678800501e-15\n",
            "Ортогонализированная матрица: \n",
            " [[-0.47583095  0.60982003  0.          0.        ]\n",
            " [-0.55513611 -0.48747369  0.          0.        ]\n",
            " [-0.55513611 -0.38615563  0.          0.        ]\n",
            " [ 0.39652579 -0.49129702  0.          0.        ]]\n"
          ]
        }
      ]
    },
    {
      "cell_type": "markdown",
      "source": [
        "функция нахождение $QR$ методом Грама-Шмидта"
      ],
      "metadata": {
        "id": "lf3XYVsL67hS"
      }
    },
    {
      "cell_type": "code",
      "source": [
        "def QR_decay(A):\n",
        "  n, m = A.shape\n",
        "\n",
        "  Q = np.empty((n, n))\n",
        "  u = np.empty((n, n))\n",
        "\n",
        "  u[:, 0] = A[:, 0]\n",
        "  Q[:, 0] = u[:, 0] / np.linalg.norm(u[:, 0])\n",
        "\n",
        "  for i in range(1, n): ## Находим матрицу Q через Алгоритм Грамма-Шмидта\n",
        "\n",
        "      u[:, i] = A[:, i]\n",
        "      for j in range(i):\n",
        "          u[:, i] -= (A[:, i] @ Q[:, j]) * Q[:, j] ## @ - матричное умножение\n",
        "\n",
        "      Q[:, i] = u[:, i] / np.linalg.norm(u[:, i])\n",
        "\n",
        "  R = np.zeros((n, m))\n",
        "  for i in range(n):\n",
        "      for j in range(i, m):\n",
        "          R[i, j] = A[:, j] @ Q[:, i] ## Находим матрицу R\n",
        "\n",
        "  return Q, R"
      ],
      "metadata": {
        "id": "w3oas78i69QG"
      },
      "execution_count": 4,
      "outputs": []
    },
    {
      "cell_type": "markdown",
      "source": [
        "находим $QR$ своей функцией"
      ],
      "metadata": {
        "id": "JiObnaPb9utM"
      }
    },
    {
      "cell_type": "code",
      "source": [
        "Q1, R1 = QR_decay(A1)\n",
        "print(\"\\nQ:\\n\", Q1)\n",
        "print(\"\\nR:\\n\", R1)"
      ],
      "metadata": {
        "colab": {
          "base_uri": "https://localhost:8080/"
        },
        "id": "uEy1cL1v8WpW",
        "outputId": "b82a26ae-3688-41e4-8c3d-3389f0652df5"
      },
      "execution_count": 5,
      "outputs": [
        {
          "output_type": "stream",
          "name": "stdout",
          "text": [
            "\n",
            "Q:\n",
            " [[-0.47583095  0.60982003 -0.6163621  -0.14765567]\n",
            " [-0.55513611 -0.48747369 -0.20735231  0.64124747]\n",
            " [-0.55513611 -0.38615563  0.21528437 -0.70452847]\n",
            " [ 0.39652579 -0.49129702 -0.72852963 -0.2657802 ]]\n",
            "\n",
            "R:\n",
            " [[12.60952021  2.14123928  8.40634681 -5.15483531]\n",
            " [ 0.          9.86990853  1.92504317  5.88027089]\n",
            " [ 0.          0.          1.90461075 -0.51792314]\n",
            " [ 0.          0.          0.          9.19683874]]\n"
          ]
        }
      ]
    },
    {
      "cell_type": "markdown",
      "source": [
        "Проверка QR_decay"
      ],
      "metadata": {
        "id": "sRlJzgdZ93hX"
      }
    },
    {
      "cell_type": "code",
      "source": [
        "Q_np, R_np = np.linalg.qr(A1)\n",
        "print(\"\\nQ:\\n\", Q_np)\n",
        "print(\"\\nR:\\n\", R_np)"
      ],
      "metadata": {
        "colab": {
          "base_uri": "https://localhost:8080/"
        },
        "id": "7zbFCdqf8rkV",
        "outputId": "da0ab5a3-b965-4097-ad96-68613727b68d"
      },
      "execution_count": 6,
      "outputs": [
        {
          "output_type": "stream",
          "name": "stdout",
          "text": [
            "\n",
            "Q:\n",
            " [[-0.47583095  0.60982003  0.6163621   0.14765567]\n",
            " [-0.55513611 -0.48747369  0.20735231 -0.64124747]\n",
            " [-0.55513611 -0.38615563 -0.21528437  0.70452847]\n",
            " [ 0.39652579 -0.49129702  0.72852963  0.2657802 ]]\n",
            "\n",
            "R:\n",
            " [[12.60952021  2.14123928  8.40634681 -5.15483531]\n",
            " [ 0.          9.86990853  1.92504317  5.88027089]\n",
            " [ 0.          0.         -1.90461075  0.51792314]\n",
            " [ 0.          0.          0.         -9.19683874]]\n"
          ]
        }
      ]
    },
    {
      "cell_type": "markdown",
      "source": [
        "#2\n",
        "Решить систему с помощью $QR$ разложения матрицы $А$. $QR$ разложение найти методом Грама-Шмидта. Проверить полученное решение непосредственной подстановкой в исходную систему, а также методом $np.solve$\n",
        "$$\\begin{cases}\n",
        "15.7x_1+6.6x_2-5.7x_3+11.5x_4=-2.4\\\\\n",
        "8.8x_1-6.7x_2+5.5x_3-4.5x_4=5.6\\\\\n",
        "6.3x_1-5.7x_2-23.4x_3+6.6x_4=7.7\\\\\n",
        "14.3x_1+8.7x_2-15.7x_3-5.8x_4=23.4\n",
        "\\end{cases}$$"
      ],
      "metadata": {
        "id": "H0OX6kx2p7iI"
      }
    },
    {
      "cell_type": "markdown",
      "source": [
        "создание матриц"
      ],
      "metadata": {
        "id": "y7EUpZNnNPu_"
      }
    },
    {
      "cell_type": "code",
      "source": [
        "A2 = np.array([[15.7, 6.6, -5.7, 11.5],\n",
        "               [8.8, -6.7, 5.5, -4.5],\n",
        "               [6.3, -5.7, -23.4, 6.6],\n",
        "               [14.3, 8.7, -15.7, -5.8]])\n",
        "B2 = np.array([-2.4, 5.6, 7.7, 23.4])\n",
        "print(\"A:\\n\", A2, \"\\nB:\\n\", B2)"
      ],
      "metadata": {
        "id": "esrIjEJ5ruCH",
        "colab": {
          "base_uri": "https://localhost:8080/"
        },
        "outputId": "aec067c4-d0ce-4567-d0d3-a368da2c6e19"
      },
      "execution_count": 7,
      "outputs": [
        {
          "output_type": "stream",
          "name": "stdout",
          "text": [
            "A:\n",
            " [[ 15.7   6.6  -5.7  11.5]\n",
            " [  8.8  -6.7   5.5  -4.5]\n",
            " [  6.3  -5.7 -23.4   6.6]\n",
            " [ 14.3   8.7 -15.7  -5.8]] \n",
            "B:\n",
            " [-2.4  5.6  7.7 23.4]\n"
          ]
        }
      ]
    },
    {
      "cell_type": "markdown",
      "source": [
        "нахождение $QR$ разложение матрицы $A$"
      ],
      "metadata": {
        "id": "nu9UYeW2PEkP"
      }
    },
    {
      "cell_type": "code",
      "source": [
        "Q2, R2 = QR_decay(A2)\n",
        "print(\"Q:\\n\", Q2, \"\\nR:\\n\", R2)"
      ],
      "metadata": {
        "colab": {
          "base_uri": "https://localhost:8080/"
        },
        "id": "MjePIgnMPOcV",
        "outputId": "677e341c-7861-4ab0-9482-d231efe5af24"
      },
      "execution_count": 8,
      "outputs": [
        {
          "output_type": "stream",
          "name": "stdout",
          "text": [
            "Q:\n",
            " [[ 0.65869359  0.22703847  0.22835537  0.68002215]\n",
            " [ 0.36920405 -0.68130742  0.54837989 -0.3143057 ]\n",
            " [ 0.26431654 -0.55799546 -0.7641074   0.18686282]\n",
            " [ 0.59995658  0.41583026 -0.25154165 -0.63550302]] \n",
            "R:\n",
            " [[ 23.83505821   5.58672854 -17.3282564    4.178299  ]\n",
            " [  0.          12.86151096   1.48724863  -0.4177598 ]\n",
            " [  0.           0.          23.54378096  -3.42579006]\n",
            " [  0.           0.           0.          14.15384247]]\n"
          ]
        }
      ]
    },
    {
      "cell_type": "markdown",
      "source": [
        "решаем систему $RX = Q^{T}B$"
      ],
      "metadata": {
        "id": "rlchX73PP3M_"
      }
    },
    {
      "cell_type": "code",
      "source": [
        "def reverse(A,B):\n",
        "  n = np.size(B)\n",
        "  x = np.zeros_like(B)\n",
        "  for i in range(n-1, -1, -1): x[i] = (B[i] - np.sum(A[i,i+1:] * x[i+1:]))/A[i,i]\n",
        "  return x"
      ],
      "metadata": {
        "id": "BlaKK1_IQKUA"
      },
      "execution_count": 9,
      "outputs": []
    },
    {
      "cell_type": "code",
      "source": [
        "X2 = reverse(R2, Q2.T @ B2)\n",
        "print(X2)"
      ],
      "metadata": {
        "colab": {
          "base_uri": "https://localhost:8080/"
        },
        "id": "N-_kBOOtRoWg",
        "outputId": "7fb7de61-09c0-49f9-d77f-d2936255a58a"
      },
      "execution_count": 10,
      "outputs": [
        {
          "output_type": "stream",
          "name": "stdout",
          "text": [
            "[ 0.46606121  0.11028446 -0.56570877 -1.188659  ]\n"
          ]
        }
      ]
    },
    {
      "cell_type": "markdown",
      "source": [
        "проверяем полученное решение непосредственной подстановкой в исходную систему"
      ],
      "metadata": {
        "id": "tq5GKWi2THS4"
      }
    },
    {
      "cell_type": "code",
      "source": [
        "print(\"AX:\", A2 @ X2, \"\\n B:\", B2)"
      ],
      "metadata": {
        "colab": {
          "base_uri": "https://localhost:8080/"
        },
        "id": "26aFMSJzTP6j",
        "outputId": "66cb2603-2768-428b-f2e9-cca7f28851d3"
      },
      "execution_count": 11,
      "outputs": [
        {
          "output_type": "stream",
          "name": "stdout",
          "text": [
            "AX: [-2.4  5.6  7.7 23.4] \n",
            " B: [-2.4  5.6  7.7 23.4]\n"
          ]
        }
      ]
    },
    {
      "cell_type": "markdown",
      "source": [
        "проверяем полученное решение методом $np.solve$"
      ],
      "metadata": {
        "id": "6oqpEULXTl51"
      }
    },
    {
      "cell_type": "code",
      "source": [
        "print(\"       X:\", X2, \"\\nnp.solve:\", np.linalg.solve(A2, B2))"
      ],
      "metadata": {
        "colab": {
          "base_uri": "https://localhost:8080/"
        },
        "id": "OV1hccXvTpDg",
        "outputId": "813a648c-ef77-490f-afe1-434738c62562"
      },
      "execution_count": 12,
      "outputs": [
        {
          "output_type": "stream",
          "name": "stdout",
          "text": [
            "       X: [ 0.46606121  0.11028446 -0.56570877 -1.188659  ] \n",
            "np.solve: [ 0.46606121  0.11028446 -0.56570877 -1.188659  ]\n"
          ]
        }
      ]
    },
    {
      "cell_type": "markdown",
      "source": [
        "#3\n",
        "Решить систему методом Зейделя с точностью до $10^{-3}$. Проверить выполнение достаточного условия сходимости. Если условие не выполняется, в программе выполнить эквивалентные реобразования системы, после этого привести к удобному для итераций виду. Оформить итерации в виде таблицы (можно пользоваться модулями PrettyTable или Pandas). Проверить полученное решение.\n",
        "$$\\begin{cases}\n",
        "6.15x_1-1.72x_2-1.23x_3=2.15\\\\\n",
        "0.72x_1+5.67x_2+1.18x_3=1.43\\\\\n",
        "2.57x_1-1.34x_2-3.68x_3=1.03\n",
        "\\end{cases}$$\n"
      ],
      "metadata": {
        "id": "7ZzP3-w2r0cj"
      }
    },
    {
      "cell_type": "markdown",
      "source": [
        "создаём матрицы"
      ],
      "metadata": {
        "id": "5rLeKCzyX2U0"
      }
    },
    {
      "cell_type": "code",
      "source": [
        "A3 = np.array([[6.15, -1.72, -1.23],\n",
        "               [0.72, 5.67, 1.18],\n",
        "               [2.57, -1.34, -3.68]])\n",
        "B3 = np.array([2.15, 1.43, 1.03])\n",
        "e = 1e-3\n",
        "print(\"A:\\n\", A3, \"\\nB:\\n\", B3)"
      ],
      "metadata": {
        "id": "SW6k_c0SvFU8",
        "colab": {
          "base_uri": "https://localhost:8080/"
        },
        "outputId": "d88a7c05-a629-4331-a124-851f70c71060"
      },
      "execution_count": 87,
      "outputs": [
        {
          "output_type": "stream",
          "name": "stdout",
          "text": [
            "A:\n",
            " [[ 6.15 -1.72 -1.23]\n",
            " [ 0.72  5.67  1.18]\n",
            " [ 2.57 -1.34 -3.68]] \n",
            "B:\n",
            " [2.15 1.43 1.03]\n"
          ]
        }
      ]
    },
    {
      "cell_type": "markdown",
      "source": [
        "Преобразование системы к виду $X^{k+1}=D_1X^{k+1}+D_2X^k+C$"
      ],
      "metadata": {
        "id": "HlLz0xpC0EU4"
      }
    },
    {
      "cell_type": "code",
      "source": [
        "n = len(B3)\n",
        "C = np.array([B3[i]/A3[i][i] for i in range(n)])\n",
        "D1 = np.zeros_like(A3)\n",
        "D2 = np.zeros_like(A3)\n",
        "for i in range(n):\n",
        "  for j in range(n):\n",
        "    d = -A3[i][j] / A3[i][i]\n",
        "    if i > j: D1[i][j] = d\n",
        "    if i < j: D2[i][j] = d\n",
        "\n",
        "print(\"D1:\\n\", D1, \"\\nD2:\\n\", D2, \"\\nC:\\n\", C)"
      ],
      "metadata": {
        "colab": {
          "base_uri": "https://localhost:8080/"
        },
        "id": "2mKK_o5FwFrL",
        "outputId": "3d74a1d4-456d-4cbf-ea78-b72b36d6b406"
      },
      "execution_count": 88,
      "outputs": [
        {
          "output_type": "stream",
          "name": "stdout",
          "text": [
            "D1:\n",
            " [[ 0.          0.          0.        ]\n",
            " [-0.12698413  0.          0.        ]\n",
            " [ 0.69836957 -0.36413043  0.        ]] \n",
            "D2:\n",
            " [[ 0.          0.2796748   0.2       ]\n",
            " [ 0.          0.         -0.20811287]\n",
            " [ 0.          0.          0.        ]] \n",
            "C:\n",
            " [ 0.3495935   0.25220459 -0.2798913 ]\n"
          ]
        }
      ]
    },
    {
      "cell_type": "markdown",
      "source": [
        "проверка сходимости метода ($max|d_{ij}$|<1)"
      ],
      "metadata": {
        "id": "9046zuppKukW"
      }
    },
    {
      "cell_type": "code",
      "source": [
        "D = D1 + D2\n",
        "d_max = np.max(np.abs(D))\n",
        "if d_max < 1: print(d_max, \"< 1 => метод сходиться\")\n",
        "else: print(d_max, \"> 1 => метод не сходиться\")"
      ],
      "metadata": {
        "colab": {
          "base_uri": "https://localhost:8080/"
        },
        "id": "xX0IoisOLK2v",
        "outputId": "7f3a583e-1bcf-4dd1-c413-4b88cf89808e"
      },
      "execution_count": 99,
      "outputs": [
        {
          "output_type": "stream",
          "name": "stdout",
          "text": [
            "0.6983695652173912 < 1 => метод сходиться\n"
          ]
        }
      ]
    },
    {
      "cell_type": "markdown",
      "source": [
        "функция для итерационного вычисления"
      ],
      "metadata": {
        "id": "yl_OkJqv3npz"
      }
    },
    {
      "cell_type": "code",
      "source": [
        "def iter(X_old):\n",
        "  X_new = np.zeros_like(X_old)\n",
        "  for i in range(n):\n",
        "    X_new[i] = C[i] + D1[i] @ X_new + D2[i] @ X_old\n",
        "  return X_new"
      ],
      "metadata": {
        "id": "XlY-RqLz3uuV"
      },
      "execution_count": 100,
      "outputs": []
    },
    {
      "cell_type": "markdown",
      "source": [
        "решаем систему с точностью до $10^{-3}$"
      ],
      "metadata": {
        "id": "tJXPDTk16a14"
      }
    },
    {
      "cell_type": "code",
      "source": [
        "table = PrettyTable()\n",
        "table.field_names = [\"Iter\"] + [f\"x_{i+1}\" for i in range(n)] + [\"norma(x_k - x_k-1)\"]\n",
        "\n",
        "i = 0\n",
        "norma = np.inf\n",
        "x_old = np.zeros(n)\n",
        "\n",
        "table.add_row([i] + [x[i] for i in range(len(x))] + [''])\n",
        "\n",
        "while e < norma:\n",
        "  i += 1\n",
        "  x_new = iter(x_old)\n",
        "  norma = np.max(np.abs(x_new - x_old))\n",
        "  table.add_row([i] + [x_new[j] for j in range(3)] + [norma])\n",
        "  x_old = x_new.copy()\n",
        "\n",
        "\n",
        "print(table)"
      ],
      "metadata": {
        "colab": {
          "base_uri": "https://localhost:8080/"
        },
        "id": "RY35vMgt6l9C",
        "outputId": "9eaf3379-544c-48c0-826d-da8270744073"
      },
      "execution_count": 90,
      "outputs": [
        {
          "output_type": "stream",
          "name": "stdout",
          "text": [
            "+------+--------------------+---------------------+----------------------+-----------------------+\n",
            "| Iter |        x_1         |         x_2         |         x_3          |   norma(x_k - x_k-1)  |\n",
            "+------+--------------------+---------------------+----------------------+-----------------------+\n",
            "|  0   |        0.0         |         0.0         |         0.0          |                       |\n",
            "|  1   | 0.3495934959349593 |  0.2078117606572891 | -0.11141643334997883 |   0.3495934959349593  |\n",
            "|  2   | 0.3854299211886281 |  0.2264482977243673 | -0.09317549497170602 |  0.03583642525366881  |\n",
            "|  3   | 0.3942902785806038 |  0.2215269988516011 | -0.08519569633396576 |  0.00886035739197566  |\n",
            "|  4   | 0.3945098750461749 | 0.21983841475146976 | -0.08442747198323375 | 0.0016885841001313406 |\n",
            "|  5   | 0.3941912655013252 | 0.21971899572826484 | -0.08460649509170359 | 0.0003186095448496906 |\n",
            "+------+--------------------+---------------------+----------------------+-----------------------+\n"
          ]
        }
      ]
    },
    {
      "cell_type": "markdown",
      "source": [
        "проверка решения"
      ],
      "metadata": {
        "id": "xCS1__nT94kw"
      }
    },
    {
      "cell_type": "code",
      "source": [
        "print((A3@x_new)-B3)"
      ],
      "metadata": {
        "colab": {
          "base_uri": "https://localhost:8080/"
        },
        "id": "FH_V697P96iB",
        "outputId": "b0d15c5b-69ea-4d57-8649-d185db61a788"
      },
      "execution_count": 101,
      "outputs": [
        {
          "output_type": "stream",
          "name": "stdout",
          "text": [
            "[ 0.0004256  -0.00021125  0.        ]\n"
          ]
        }
      ]
    },
    {
      "cell_type": "markdown",
      "source": [
        "#4\n",
        "Решить нелинейное уравнение методом хорд с точностью $10^{-4}$ и комбинированным методом с точностью $10^{-5}$. До решения отделить корни графическим методом, проверить выполнение условий метода.\n",
        "\n",
        "$-2.7x^3-1.48x^2+19.23x+6.35, -4, 4$\n"
      ],
      "metadata": {
        "id": "2ds2gegwvFyY"
      }
    },
    {
      "cell_type": "code",
      "source": [],
      "metadata": {
        "id": "xSujyT9b0Qip"
      },
      "execution_count": 17,
      "outputs": []
    },
    {
      "cell_type": "markdown",
      "source": [
        "#5\n",
        "Решить систему нелинейных уравнений методом Ньютона с точностью $10^{-4}$\n",
        "$$\\begin{cases}\n",
        "sin(x+1.5)-y+2.9=0\\\\\n",
        "cos(y-2)+x=0\n",
        "\\end{cases}\n",
        "$$"
      ],
      "metadata": {
        "id": "HSnqMq5B0RJT"
      }
    },
    {
      "cell_type": "code",
      "source": [],
      "metadata": {
        "id": "aNqRGyb005Sm"
      },
      "execution_count": 17,
      "outputs": []
    }
  ]
}