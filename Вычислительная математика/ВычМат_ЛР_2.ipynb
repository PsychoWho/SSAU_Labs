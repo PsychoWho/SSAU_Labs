{
  "nbformat": 4,
  "nbformat_minor": 0,
  "metadata": {
    "colab": {
      "provenance": []
    },
    "kernelspec": {
      "name": "python3",
      "display_name": "Python 3"
    },
    "language_info": {
      "name": "python"
    }
  },
  "cells": [
    {
      "cell_type": "markdown",
      "source": [
        "# Лабораторная работа №2. Нормы векторов и матриц, решение переопределенной системы линейных уравнений, решение системы линейных уравнений с помощью LU разложения.\n",
        " Вариант №5 \\\\\n",
        " Завадский Никита Валерьевич\n"
      ],
      "metadata": {
        "id": "FP0E5OQulmGm"
      }
    },
    {
      "cell_type": "code",
      "source": [
        "import numpy as np\n",
        "from matplotlib import pyplot as plt"
      ],
      "metadata": {
        "id": "QZU1HLzal8Va"
      },
      "execution_count": null,
      "outputs": []
    },
    {
      "cell_type": "markdown",
      "source": [
        "1. Создать квадратную матрицу из случайных целых чисел из [0,8] размера 6. Создать двe новые матрицы: первая – из двух последних строк исходной матрицы (должна получиться матрица размера 2х6), вторая – из двух первых столбцов матрицы (матрица размера 6х2)."
      ],
      "metadata": {
        "id": "r1cKZJLYmGFt"
      }
    },
    {
      "cell_type": "markdown",
      "source": [
        "содание матрицы целых чисел из [0,8] размера 6"
      ],
      "metadata": {
        "id": "A_ptGoKBmOPs"
      }
    },
    {
      "cell_type": "code",
      "source": [
        "matA = np.random.randint(0,8,(6,6))\n",
        "print(matA)"
      ],
      "metadata": {
        "colab": {
          "base_uri": "https://localhost:8080/"
        },
        "id": "fDZi2tuvmUTe",
        "outputId": "8e507e0b-c299-4e93-ac42-c6d50522eba0"
      },
      "execution_count": null,
      "outputs": [
        {
          "output_type": "stream",
          "name": "stdout",
          "text": [
            "[[4 7 2 0 5 2]\n",
            " [1 4 0 7 3 4]\n",
            " [3 3 2 2 7 2]\n",
            " [4 4 4 0 0 7]\n",
            " [4 4 3 5 1 1]\n",
            " [0 6 3 1 7 6]]\n"
          ]
        }
      ]
    },
    {
      "cell_type": "markdown",
      "source": [
        "создание матрицы из двух последних строк исходной матрицы"
      ],
      "metadata": {
        "id": "owTVphnaoSTM"
      }
    },
    {
      "cell_type": "code",
      "source": [
        "matB = matA[-2:]\n",
        "print(matB)"
      ],
      "metadata": {
        "colab": {
          "base_uri": "https://localhost:8080/"
        },
        "id": "B2yVRp9bmyN1",
        "outputId": "21a3a1b2-883f-4b82-cb2c-42d476ae1475"
      },
      "execution_count": null,
      "outputs": [
        {
          "output_type": "stream",
          "name": "stdout",
          "text": [
            "[[4 4 3 5 1 1]\n",
            " [0 6 3 1 7 6]]\n"
          ]
        }
      ]
    },
    {
      "cell_type": "markdown",
      "source": [
        "создание матрицы из двух первых столбцов матрицы"
      ],
      "metadata": {
        "id": "1uU4dpzqoXTq"
      }
    },
    {
      "cell_type": "code",
      "source": [
        "matC = matA[:,:2]\n",
        "print(matC)"
      ],
      "metadata": {
        "colab": {
          "base_uri": "https://localhost:8080/"
        },
        "id": "-BmZx_f-n99Y",
        "outputId": "d3ff70c3-b402-4454-ba5c-7f0470c35987"
      },
      "execution_count": null,
      "outputs": [
        {
          "output_type": "stream",
          "name": "stdout",
          "text": [
            "[[4 7]\n",
            " [1 4]\n",
            " [3 3]\n",
            " [4 4]\n",
            " [4 4]\n",
            " [0 6]]\n"
          ]
        }
      ]
    },
    {
      "cell_type": "markdown",
      "source": [
        "2. Создать вектор-строку 1x10 из случайных целых чисел. Вычислить норму $\\ || x ||_3 $ самостоятельно написанной функцией и проверить результат с помощью linalg.norm() в python\n"
      ],
      "metadata": {
        "id": "Qf8z-gMnpJ79"
      }
    },
    {
      "cell_type": "markdown",
      "source": [
        "создание матрицы"
      ],
      "metadata": {
        "id": "hKCYxgutq4ZL"
      }
    },
    {
      "cell_type": "code",
      "source": [
        "D = np.random.randint(-10,10, 10)\n",
        "print(D)"
      ],
      "metadata": {
        "colab": {
          "base_uri": "https://localhost:8080/"
        },
        "id": "29vcr-4cpRYr",
        "outputId": "71e86c5a-9480-44d9-da4f-2d9eff61a7a6"
      },
      "execution_count": null,
      "outputs": [
        {
          "output_type": "stream",
          "name": "stdout",
          "text": [
            "[  3 -10   2  -2  -9   5  -2  -5   2  -7]\n"
          ]
        }
      ]
    },
    {
      "cell_type": "markdown",
      "source": [
        "собственная функция"
      ],
      "metadata": {
        "id": "hQ47cpfcq-nu"
      }
    },
    {
      "cell_type": "code",
      "source": [
        "def norm_vec(vec,p):\n",
        "  answ = 0\n",
        "  for i in range(0,10):\n",
        "    answ += np.power(abs(vec[i]),p)\n",
        "  return np.power(answ, 1/p)\n",
        "\n",
        "print(norm_vec(D,3))"
      ],
      "metadata": {
        "colab": {
          "base_uri": "https://localhost:8080/"
        },
        "id": "BlycsJdfq-VD",
        "outputId": "93fb3bad-6a95-4d88-c484-0342cd6908d8"
      },
      "execution_count": null,
      "outputs": [
        {
          "output_type": "stream",
          "name": "stdout",
          "text": [
            "13.353234170860826\n"
          ]
        }
      ]
    },
    {
      "cell_type": "markdown",
      "source": [
        "проверка встроенной функцией"
      ],
      "metadata": {
        "id": "NvURyETLtx83"
      }
    },
    {
      "cell_type": "code",
      "source": [
        "print(np.linalg.norm(D,3))"
      ],
      "metadata": {
        "colab": {
          "base_uri": "https://localhost:8080/"
        },
        "id": "6NECmDNJt05u",
        "outputId": "c0465fa9-596a-4438-ddb1-6b7ad0e88d7e"
      },
      "execution_count": null,
      "outputs": [
        {
          "output_type": "stream",
          "name": "stdout",
          "text": [
            "13.353234170860826\n"
          ]
        }
      ]
    },
    {
      "cell_type": "markdown",
      "source": [
        "3. Создать матрицу из случайных целых чисел. Найти норму матрицы Фробениуса с помощью самостоятельно написанного алгоритма, проверить результат с помощью linalg.norm() в Python ."
      ],
      "metadata": {
        "id": "_02Myhz9vq6o"
      }
    },
    {
      "cell_type": "markdown",
      "source": [
        "создание матрицы"
      ],
      "metadata": {
        "id": "FVKGrxyIwQM1"
      }
    },
    {
      "cell_type": "code",
      "source": [
        "F = np.random.randint(-10,10,(5,6))\n",
        "print(F)"
      ],
      "metadata": {
        "colab": {
          "base_uri": "https://localhost:8080/"
        },
        "id": "gpeymVHmwTnT",
        "outputId": "88f1db20-e633-4478-e51c-765a76d99fa2"
      },
      "execution_count": null,
      "outputs": [
        {
          "output_type": "stream",
          "name": "stdout",
          "text": [
            "[[ -4  -3   3   3 -10   0]\n",
            " [  2   2 -10   8  -4  -5]\n",
            " [  4   8  -6  -4   7   4]\n",
            " [  0   7  -2   4   1   4]\n",
            " [  5 -10   1  -2   6  -3]]\n"
          ]
        }
      ]
    },
    {
      "cell_type": "markdown",
      "source": [
        "собственная функция"
      ],
      "metadata": {
        "id": "CZHCJWk6wv4e"
      }
    },
    {
      "cell_type": "code",
      "source": [
        "def norm_frob(Mat):\n",
        "  answ = 0\n",
        "  for i in range(0,Mat.shape[0]):\n",
        "    for j in range(0,Mat.shape[1]):\n",
        "      answ += np.power(abs(Mat[i,j]),2)\n",
        "  return np.sqrt(answ)\n",
        "\n",
        "print(norm_frob(F))"
      ],
      "metadata": {
        "colab": {
          "base_uri": "https://localhost:8080/"
        },
        "id": "dQ9o0kbUwyUe",
        "outputId": "afd3ad50-c0cf-4ac9-cd5f-15cd0506e8f2"
      },
      "execution_count": null,
      "outputs": [
        {
          "output_type": "stream",
          "name": "stdout",
          "text": [
            "28.53068523537421\n"
          ]
        }
      ]
    },
    {
      "cell_type": "markdown",
      "source": [
        "проверка встроенной функцией"
      ],
      "metadata": {
        "id": "LfD6dLp-ygcZ"
      }
    },
    {
      "cell_type": "code",
      "source": [
        "print(np.linalg.norm(F))"
      ],
      "metadata": {
        "colab": {
          "base_uri": "https://localhost:8080/"
        },
        "id": "AUgIk1PXyixv",
        "outputId": "5abd5d39-be9f-4cad-e8fd-725a3d9eefd4"
      },
      "execution_count": null,
      "outputs": [
        {
          "output_type": "stream",
          "name": "stdout",
          "text": [
            "28.53068523537421\n"
          ]
        }
      ]
    },
    {
      "cell_type": "markdown",
      "source": [
        "4.Найти псевдорешение системы $$\\begin{cases}\n",
        "15.7x_1 + 6.6x_2 - 5.7x_3 = -2.4\\\\\n",
        "8.8x_1 - 6.7x_2 + 5.5x_3 = 5.6\\\\\n",
        "6.3x_1 - 5.7x_2 - 23.4x_3 = 7.7\\\\\n",
        "14.3x_1 + 8.7x_2 - 15.7x_3 = 23.4\n",
        "\\end{cases}$$"
      ],
      "metadata": {
        "id": "93w7O1ARzH5o"
      }
    },
    {
      "cell_type": "code",
      "source": [
        "A = np.array([[15.7, 6.6, -5.7],\n",
        "              [8.8, -6.7, 5.5],\n",
        "              [6.3, -5.7, -23.4],\n",
        "              [14.3, 8.7, -15.7]])\n",
        "\n",
        "B = np.array([-2.4, 5.6, 7.7, 23.4])\n",
        "\n",
        "X = np.linalg.inv(A.transpose() @ A) @ A.transpose() @ B\n",
        "print(X)"
      ],
      "metadata": {
        "colab": {
          "base_uri": "https://localhost:8080/"
        },
        "id": "355ZbFoo1Nxa",
        "outputId": "d90d401c-3197-4e4c-8040-1e623a0288b4"
      },
      "execution_count": null,
      "outputs": [
        {
          "output_type": "stream",
          "name": "stdout",
          "text": [
            "[ 0.37906884  0.12889361 -0.39275031]\n"
          ]
        }
      ]
    },
    {
      "cell_type": "markdown",
      "source": [
        "проверка"
      ],
      "metadata": {
        "id": "sp_BXf6F4aGS"
      }
    },
    {
      "cell_type": "code",
      "source": [
        "X_prov = np.linalg.pinv(A) @ B\n",
        "print(X_prov)"
      ],
      "metadata": {
        "colab": {
          "base_uri": "https://localhost:8080/"
        },
        "id": "3hBSRQ8G4ZiJ",
        "outputId": "564d2f3e-d1b6-4ca1-c63a-f7e1ea2a2d3d"
      },
      "execution_count": null,
      "outputs": [
        {
          "output_type": "stream",
          "name": "stdout",
          "text": [
            "[ 0.37906884  0.12889361 -0.39275031]\n"
          ]
        }
      ]
    },
    {
      "cell_type": "markdown",
      "source": [
        "5. Даны пять точек (20; 19), (25; 16), (30; 27), (35, 24), (40, 31). Найти уравнение наиболее выгодной траектории. Построить график.\n"
      ],
      "metadata": {
        "id": "j9BHAnBO3I4V"
      }
    },
    {
      "cell_type": "code",
      "source": [
        "A = np.array([[20, 1],\n",
        "              [25, 1],\n",
        "              [30, 1],\n",
        "              [35, 1],\n",
        "              [40, 1]])\n",
        "\n",
        "B = np.array([19, 16, 27, 24, 31])\n",
        "\n",
        "X = np.linalg.inv(A.transpose() @ A) @ A.transpose() @ B\n",
        "print(X)\n",
        "\n",
        "x = [20, 25, 30, 35, 40]\n",
        "y = [19, 16, 27, 24, 31]\n",
        "\n",
        "plt.scatter(x, y, 40, 'g', 'o', alpha=0.8)\n",
        "\n",
        "X_support = np.linspace(5, 50, num=100)\n",
        "\n",
        "Y_model = X[1] + X[0]*X_support\n",
        "\n",
        "plt.plot(X_support, Y_model)\n",
        "plt.show()"
      ],
      "metadata": {
        "colab": {
          "base_uri": "https://localhost:8080/",
          "height": 502
        },
        "id": "BDqqf23o40QV",
        "outputId": "627663f9-ca66-4c7f-c897-6f1c8fdbde11"
      },
      "execution_count": null,
      "outputs": [
        {
          "output_type": "stream",
          "name": "stdout",
          "text": [
            "[0.64 4.2 ]\n"
          ]
        },
        {
          "output_type": "stream",
          "name": "stderr",
          "text": [
            "<ipython-input-105-25536c4e1ee0>:15: MatplotlibDeprecationWarning: Passing the marker parameter of scatter() positionally is deprecated since Matplotlib 3.9; the parameter will become keyword-only in 3.11.\n",
            "  plt.scatter(x, y, 40, 'g', 'o', alpha=0.8)\n"
          ]
        },
        {
          "output_type": "display_data",
          "data": {
            "text/plain": [
              "<Figure size 640x480 with 1 Axes>"
            ],
            "image/png": "[encoded data removed]"
          },
          "metadata": {}
        }
      ]
    },
    {
      "cell_type": "markdown",
      "source": [
        "проверка"
      ],
      "metadata": {
        "id": "5AXsznBt9Myl"
      }
    },
    {
      "cell_type": "code",
      "source": [
        "X_prov = np.linalg.pinv(A) @ B\n",
        "print(X_prov)"
      ],
      "metadata": {
        "colab": {
          "base_uri": "https://localhost:8080/"
        },
        "id": "ZX8NCpO19O9E",
        "outputId": "df152835-7b3f-4925-d62a-9fa664f8c736"
      },
      "execution_count": null,
      "outputs": [
        {
          "output_type": "stream",
          "name": "stdout",
          "text": [
            "[0.64 4.2 ]\n"
          ]
        }
      ]
    },
    {
      "cell_type": "markdown",
      "source": [
        "6. Создать произвольную верхнетреугольную матрицу А 4 порядка (не унитреугольную), вектор B произвольный. Решить систему AX = B"
      ],
      "metadata": {
        "id": "uZu2NLEd-Olb"
      }
    },
    {
      "cell_type": "markdown",
      "source": [
        "создание матрицы и ветора"
      ],
      "metadata": {
        "id": "un07TjSr-ZAv"
      }
    },
    {
      "cell_type": "code",
      "source": [
        "A = np.random.uniform(-10,10,(4,4))\n",
        "A = np.triu(A, 0)\n",
        "B = np.random.uniform(-10,10,4)\n",
        "print(A)\n",
        "print()\n",
        "print(B)"
      ],
      "metadata": {
        "colab": {
          "base_uri": "https://localhost:8080/"
        },
        "id": "hqHvmjV1-81K",
        "outputId": "e83b4482-9e87-4180-c630-002f7118840a"
      },
      "execution_count": null,
      "outputs": [
        {
          "output_type": "stream",
          "name": "stdout",
          "text": [
            "[[-6.72036327 -0.85356422  8.60986683  9.81388895]\n",
            " [ 0.          0.87794351  1.69797008 -1.40825234]\n",
            " [ 0.          0.         -5.09688117  2.40195919]\n",
            " [ 0.          0.          0.         -0.92709585]]\n",
            "\n",
            "[-7.96064615  3.032389    1.25298102 -2.50575833]\n"
          ]
        }
      ]
    },
    {
      "cell_type": "markdown",
      "source": [
        "решение AX = B"
      ],
      "metadata": {
        "id": "b546vxKwAGHM"
      }
    },
    {
      "cell_type": "code",
      "source": [
        "n = np.size(B)\n",
        "x = np.zeros_like(B)\n",
        "for i in range(n-1, -1, -1): x[i] = (B[i] - np.sum(A[i,i+1:] * x[i+1:]))/A[i,i]\n",
        "print(x)"
      ],
      "metadata": {
        "colab": {
          "base_uri": "https://localhost:8080/"
        },
        "id": "OV_cKYGSAG1r",
        "outputId": "852f0705-12bd-4351-8c24-7f582297d376"
      },
      "execution_count": null,
      "outputs": [
        {
          "output_type": "stream",
          "name": "stdout",
          "text": [
            "[5.71156959 5.80138579 1.02789207 2.70280394]\n"
          ]
        }
      ]
    },
    {
      "cell_type": "markdown",
      "source": [
        "проверка"
      ],
      "metadata": {
        "id": "qR1vs8b4DXI9"
      }
    },
    {
      "cell_type": "code",
      "source": [
        "print(np.linalg.solve(A,B))"
      ],
      "metadata": {
        "colab": {
          "base_uri": "https://localhost:8080/"
        },
        "id": "6qmUup9FDYb-",
        "outputId": "2aefdd6d-1849-45f9-cd7b-3d9f0e90d320"
      },
      "execution_count": null,
      "outputs": [
        {
          "output_type": "stream",
          "name": "stdout",
          "text": [
            "[5.71156959 5.80138579 1.02789207 2.70280394]\n"
          ]
        }
      ]
    },
    {
      "cell_type": "markdown",
      "source": [
        "7. Решить систему, используя LU разложение матрицы. LU разложение должно быть найдено самостоятельно написанной функцией, полученные матрицы выведены на экран. Придерживаться плана решения, приведенного в пособии! Решение системы должно быть проверено встроенной функцией Python. $$\\begin{cases}\n",
        "15.7x_1 + 6.6x_2 - 5.7x_3 + 11.5x_4 = -2.4\\\\\n",
        "8.8x_1 - 6.7x_2 + 5.5x_3 - 4.5x_4 = 5.6\\\\\n",
        "6.3x_1 - 5.7x_2 - 23.4x_3 + 6.6x_4 = 7.7\\\\\n",
        "14.3x_1 + 8.7x_2 - 15.7x_3 - 5.8x_4 = 23.4\n",
        "\\end{cases}$$\n"
      ],
      "metadata": {
        "id": "fI2PrxuaDy6R"
      }
    },
    {
      "cell_type": "markdown",
      "source": [
        "создание матриц"
      ],
      "metadata": {
        "id": "ohY835sSHuWO"
      }
    },
    {
      "cell_type": "code",
      "source": [
        "A = np.array([[15.7, 6.6, -5.7, 11.5],\n",
        "              [8.8, -6.7, 5.5, -4.5],\n",
        "              [6.3, -5.7, -23.4, 6.6],\n",
        "              [14.3, 8.7, -15.7, -5.8]])\n",
        "B = np.array([-2.4, 5.6, 7.7, 23.4])"
      ],
      "metadata": {
        "id": "ghfjvcyAEBda"
      },
      "execution_count": null,
      "outputs": []
    },
    {
      "cell_type": "markdown",
      "source": [
        "создание функуции"
      ],
      "metadata": {
        "id": "oBrZxfebIE2C"
      }
    },
    {
      "cell_type": "code",
      "source": [
        "def LU_decay(matA, n):\n",
        "  U = np.zeros((n,n), float)\n",
        "  L = np.identity(n, float)\n",
        "  for i in range(n):\n",
        "    for j in range(n):\n",
        "      if i<=j: U[i,j] = matA[i,j] - L[i, :i] @ U[:i,j]\n",
        "      if i>j: L[i,j] = (matA[i,j] - L[i, :j] @ U[:j,j])/U[j,j]\n",
        "  return L, U\n",
        "\n",
        "L, U = LU_decay(A, 4)\n",
        "print(\"L:\")\n",
        "print(L)\n",
        "print(\"U:\")\n",
        "print(U)"
      ],
      "metadata": {
        "colab": {
          "base_uri": "https://localhost:8080/"
        },
        "id": "T7KJ2TF_IHYk",
        "outputId": "3710d46f-03cb-4324-caad-d9c157eb0f3a"
      },
      "execution_count": null,
      "outputs": [
        {
          "output_type": "stream",
          "name": "stdout",
          "text": [
            "L:\n",
            "[[ 1.          0.          0.          0.        ]\n",
            " [ 0.56050955  1.          0.          0.        ]\n",
            " [ 0.40127389  0.80278067  1.          0.        ]\n",
            " [ 0.91082803 -0.25852882  0.29403922  1.        ]]\n",
            "U:\n",
            "[[ 15.7          6.6         -5.7         11.5       ]\n",
            " [  0.         -10.39936306   8.69490446 -10.94585987]\n",
            " [  0.           0.         -28.09284008  10.77247504]\n",
            " [  0.           0.           0.         -22.2718727 ]]\n"
          ]
        }
      ]
    },
    {
      "cell_type": "markdown",
      "source": [
        "проверка LU разложения"
      ],
      "metadata": {
        "id": "yRc5vxjTNEQk"
      }
    },
    {
      "cell_type": "code",
      "source": [
        "print(\"A:\")\n",
        "print(A)\n",
        "print(\"LU:\")\n",
        "print(L @ U)\n"
      ],
      "metadata": {
        "colab": {
          "base_uri": "https://localhost:8080/"
        },
        "id": "TBi6Do9BNJ0Z",
        "outputId": "59bc728d-24c5-46a1-8e04-31cd7f616398"
      },
      "execution_count": null,
      "outputs": [
        {
          "output_type": "stream",
          "name": "stdout",
          "text": [
            "A:\n",
            "[[ 15.7   6.6  -5.7  11.5]\n",
            " [  8.8  -6.7   5.5  -4.5]\n",
            " [  6.3  -5.7 -23.4   6.6]\n",
            " [ 14.3   8.7 -15.7  -5.8]]\n",
            "LU:\n",
            "[[ 15.7   6.6  -5.7  11.5]\n",
            " [  8.8  -6.7   5.5  -4.5]\n",
            " [  6.3  -5.7 -23.4   6.6]\n",
            " [ 14.3   8.7 -15.7  -5.8]]\n"
          ]
        }
      ]
    },
    {
      "cell_type": "markdown",
      "source": [
        "нахождение решения"
      ],
      "metadata": {
        "id": "aBJcgrncNlUi"
      }
    },
    {
      "cell_type": "code",
      "source": [],
      "metadata": {
        "colab": {
          "base_uri": "https://localhost:8080/"
        },
        "id": "anS8IKtWNoNy",
        "outputId": "9cb42857-56ea-4944-c211-215de290e84a"
      },
      "execution_count": null,
      "outputs": [
        {
          "output_type": "stream",
          "name": "stdout",
          "text": [
            "[ 0.37037083  0.00135292 -0.67697422 -1.05065256]\n",
            "[ 0.46606121  0.11028446 -0.56570877 -1.188659  ]\n"
          ]
        }
      ]
    }
  ]
}