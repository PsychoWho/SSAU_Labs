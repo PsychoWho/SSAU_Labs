{
  "nbformat": 4,
  "nbformat_minor": 0,
  "metadata": {
    "colab": {
      "provenance": []
    },
    "kernelspec": {
      "name": "python3",
      "display_name": "Python 3"
    },
    "language_info": {
      "name": "python"
    }
  },
  "cells": [
    {
      "cell_type": "markdown",
      "source": [
        "# Лабораторная работа №1. Питон для математиков\n",
        " Вариант №5 \\\\\n",
        " Завадский Никита Валерьевич"
      ],
      "metadata": {
        "id": "ew4i6K2KaoxD"
      }
    },
    {
      "cell_type": "code",
      "source": [
        "import numpy as np\n",
        "import sympy as sp\n",
        "import scipy as sc\n",
        "import math\n",
        "import matplotlib.pyplot as plt"
      ],
      "metadata": {
        "id": "9F2LPvnyb1po"
      },
      "execution_count": null,
      "outputs": []
    },
    {
      "cell_type": "markdown",
      "source": [
        "1. Используя библиотеку NumPy, создать матрицу 5x5 случайных вещественных чисел, принадлежащих интервалу (-3, 3).\n",
        "Транспонировать. Вычислить ее определитель."
      ],
      "metadata": {
        "id": "6Z_-9o9tbaL4"
      }
    },
    {
      "cell_type": "markdown",
      "source": [
        "создание матрицы"
      ],
      "metadata": {
        "id": "cx9grz7CcYJ1"
      }
    },
    {
      "cell_type": "code",
      "source": [
        "A = np.random.uniform(-3,3,(5,5))\n",
        "print(A)"
      ],
      "metadata": {
        "colab": {
          "base_uri": "https://localhost:8080/"
        },
        "id": "PJlsZOkZca3y",
        "outputId": "ead7fefb-04bc-4bae-c707-ad0941cd8e8a"
      },
      "execution_count": null,
      "outputs": [
        {
          "output_type": "stream",
          "name": "stdout",
          "text": [
            "[[ 1.54420242 -1.75192896 -2.74634649 -0.15566374  2.63854053]\n",
            " [-2.70487164 -0.50570291  2.43502349 -2.64129141  0.54393073]\n",
            " [ 0.78341269  1.89826986 -0.10360044 -0.98610087 -0.8699326 ]\n",
            " [ 2.44139884  2.30215403  2.12485214 -2.08780849  2.73031701]\n",
            " [-2.23687234  2.04158305 -2.65091582 -1.27258878  1.35676562]]\n"
          ]
        }
      ]
    },
    {
      "cell_type": "markdown",
      "source": [
        "траспонирование матрицы"
      ],
      "metadata": {
        "id": "MW2KPpFMdC9Y"
      }
    },
    {
      "cell_type": "code",
      "source": [
        "B = A.transpose()\n",
        "print(B)"
      ],
      "metadata": {
        "colab": {
          "base_uri": "https://localhost:8080/"
        },
        "id": "cVPqQWJRdFxV",
        "outputId": "8b8fd974-46cb-4fff-8839-f059e95236b7"
      },
      "execution_count": null,
      "outputs": [
        {
          "output_type": "stream",
          "name": "stdout",
          "text": [
            "[[ 1.54420242 -2.70487164  0.78341269  2.44139884 -2.23687234]\n",
            " [-1.75192896 -0.50570291  1.89826986  2.30215403  2.04158305]\n",
            " [-2.74634649  2.43502349 -0.10360044  2.12485214 -2.65091582]\n",
            " [-0.15566374 -2.64129141 -0.98610087 -2.08780849 -1.27258878]\n",
            " [ 2.63854053  0.54393073 -0.8699326   2.73031701  1.35676562]]\n"
          ]
        }
      ]
    },
    {
      "cell_type": "markdown",
      "source": [
        "вычисление определителя"
      ],
      "metadata": {
        "id": "8gopg0TIdiCj"
      }
    },
    {
      "cell_type": "code",
      "source": [
        "print(np.linalg.det(A))\n"
      ],
      "metadata": {
        "colab": {
          "base_uri": "https://localhost:8080/"
        },
        "id": "31vSaTj7dles",
        "outputId": "86a37f29-1bdc-4c2f-f21e-35ad34467fac"
      },
      "execution_count": null,
      "outputs": [
        {
          "output_type": "stream",
          "name": "stdout",
          "text": [
            "-544.1070333459252\n"
          ]
        }
      ]
    },
    {
      "cell_type": "markdown",
      "source": [
        "2. Используя библиотеку NumPy, создать вектор-столбец и\n",
        "матрицу подходящих размеров. Выполнить умножение матриц."
      ],
      "metadata": {
        "id": "sLSTaKOaeuYo"
      }
    },
    {
      "cell_type": "markdown",
      "source": [
        "создание векто-столбца"
      ],
      "metadata": {
        "id": "LLHCubeue05i"
      }
    },
    {
      "cell_type": "code",
      "source": [
        "C = np.array([[1],[2],[3]],int)\n",
        "print(C)"
      ],
      "metadata": {
        "colab": {
          "base_uri": "https://localhost:8080/"
        },
        "id": "sow8tE0zfMJI",
        "outputId": "ae773cc9-d0d3-4c31-9268-3ed643bb3359"
      },
      "execution_count": null,
      "outputs": [
        {
          "output_type": "stream",
          "name": "stdout",
          "text": [
            "[[1]\n",
            " [2]\n",
            " [3]]\n"
          ]
        }
      ]
    },
    {
      "cell_type": "markdown",
      "source": [
        "создание матрицы"
      ],
      "metadata": {
        "id": "Xu6_VH7xhpGN"
      }
    },
    {
      "cell_type": "code",
      "source": [
        "D = np.array([[1,2,3],[4,5,6],[7,8,9]],int)\n",
        "print(D)"
      ],
      "metadata": {
        "colab": {
          "base_uri": "https://localhost:8080/"
        },
        "id": "e_Ju_1oThsf1",
        "outputId": "3f3ce6ac-5fdd-4907-8e1e-ad9ba5f045c1"
      },
      "execution_count": null,
      "outputs": [
        {
          "output_type": "stream",
          "name": "stdout",
          "text": [
            "[[1 2 3]\n",
            " [4 5 6]\n",
            " [7 8 9]]\n"
          ]
        }
      ]
    },
    {
      "cell_type": "markdown",
      "source": [
        "умножние матриц"
      ],
      "metadata": {
        "id": "xdHwrUMih7oA"
      }
    },
    {
      "cell_type": "code",
      "source": [
        "DC = np.dot(D,C)\n",
        "print(DC)"
      ],
      "metadata": {
        "colab": {
          "base_uri": "https://localhost:8080/"
        },
        "id": "-j68jDK2h7Gd",
        "outputId": "7417cd55-7b0e-44f5-ffb9-d27be40d4ba3"
      },
      "execution_count": null,
      "outputs": [
        {
          "output_type": "stream",
          "name": "stdout",
          "text": [
            "[[14]\n",
            " [32]\n",
            " [50]]\n"
          ]
        }
      ]
    },
    {
      "cell_type": "markdown",
      "source": [
        "3. Используя библиотеку SymPy, упростите выражение\n",
        "$\\frac{7xy}{4}{(x + y)-(x - y)^2}$  и найдите его значение при x=-1,23, y=$\\sqrt{8}$"
      ],
      "metadata": {
        "id": "Uo411m5hjjCP"
      }
    },
    {
      "cell_type": "markdown",
      "source": [
        "создание выражения"
      ],
      "metadata": {
        "id": "czgUqPsTlFs_"
      }
    },
    {
      "cell_type": "code",
      "source": [
        "x = sp.Symbol('x')\n",
        "y = sp.Symbol('y')\n",
        "exp = ((7*x*y)/4)*(x+y)-(x-y)**2\n",
        "exp"
      ],
      "metadata": {
        "colab": {
          "base_uri": "https://localhost:8080/",
          "height": 53
        },
        "id": "Xk4OMadxlJ2F",
        "outputId": "9f671d7d-cfbe-471c-d47d-36c443dcea70"
      },
      "execution_count": null,
      "outputs": [
        {
          "output_type": "execute_result",
          "data": {
            "text/plain": [
              "7*x*y*(x + y)/4 - (x - y)**2"
            ],
            "text/latex": "$\\displaystyle \\frac{7 x y \\left(x + y\\right)}{4} - \\left(x - y\\right)^{2}$"
          },
          "metadata": {},
          "execution_count": 8
        }
      ]
    },
    {
      "cell_type": "markdown",
      "source": [
        "упрощение выражения"
      ],
      "metadata": {
        "id": "eh1g9DLZnokS"
      }
    },
    {
      "cell_type": "code",
      "source": [
        "exp = exp.expand()\n",
        "exp"
      ],
      "metadata": {
        "colab": {
          "base_uri": "https://localhost:8080/",
          "height": 54
        },
        "id": "N9bfJWIBnqeg",
        "outputId": "5e883514-5851-4818-a498-bd1eae33d25f"
      },
      "execution_count": null,
      "outputs": [
        {
          "output_type": "execute_result",
          "data": {
            "text/plain": [
              "7*x**2*y/4 - x**2 + 7*x*y**2/4 + 2*x*y - y**2"
            ],
            "text/latex": "$\\displaystyle \\frac{7 x^{2} y}{4} - x^{2} + \\frac{7 x y^{2}}{4} + 2 x y - y^{2}$"
          },
          "metadata": {},
          "execution_count": 9
        }
      ]
    },
    {
      "cell_type": "markdown",
      "source": [
        "нахождение значения"
      ],
      "metadata": {
        "id": "z-27_VqGpM4U"
      }
    },
    {
      "cell_type": "code",
      "source": [
        "exp1 = exp.subs(x, -1.23)\n",
        "exp1.subs(y, sp.sqrt(8)).evalf()"
      ],
      "metadata": {
        "colab": {
          "base_uri": "https://localhost:8080/",
          "height": 37
        },
        "id": "4ecI8x7xpQ9M",
        "outputId": "cbc6d7e3-8b7e-4871-f475-408f6d4d0e25"
      },
      "execution_count": null,
      "outputs": [
        {
          "output_type": "execute_result",
          "data": {
            "text/plain": [
              "-26.2023577820757"
            ],
            "text/latex": "$\\displaystyle -26.2023577820757$"
          },
          "metadata": {},
          "execution_count": 10
        }
      ]
    },
    {
      "cell_type": "markdown",
      "source": [
        "4. Используя библиотеку SymPy, найдите частные производные от выражения из задания выше."
      ],
      "metadata": {
        "id": "fXlUfSCVsibu"
      }
    },
    {
      "cell_type": "markdown",
      "source": [
        "частная производная по х"
      ],
      "metadata": {
        "id": "vKFXdCcAsk5P"
      }
    },
    {
      "cell_type": "code",
      "source": [
        "sp.diff(exp,x)"
      ],
      "metadata": {
        "colab": {
          "base_uri": "https://localhost:8080/",
          "height": 54
        },
        "id": "v0x2PC6esiB5",
        "outputId": "09b562aa-a91f-4977-8bcc-4ca0ead0c0ae"
      },
      "execution_count": null,
      "outputs": [
        {
          "output_type": "execute_result",
          "data": {
            "text/plain": [
              "7*x*y/2 - 2*x + 7*y**2/4 + 2*y"
            ],
            "text/latex": "$\\displaystyle \\frac{7 x y}{2} - 2 x + \\frac{7 y^{2}}{4} + 2 y$"
          },
          "metadata": {},
          "execution_count": 11
        }
      ]
    },
    {
      "cell_type": "markdown",
      "source": [
        "частная производная по у"
      ],
      "metadata": {
        "id": "2yMqzLIKureM"
      }
    },
    {
      "cell_type": "code",
      "source": [
        "sp.diff(exp, y)"
      ],
      "metadata": {
        "colab": {
          "base_uri": "https://localhost:8080/",
          "height": 54
        },
        "id": "7tIQeMqqurCP",
        "outputId": "2794d6b9-bb2d-477b-a36e-e88865d29ed2"
      },
      "execution_count": null,
      "outputs": [
        {
          "output_type": "execute_result",
          "data": {
            "text/plain": [
              "7*x**2/4 + 7*x*y/2 + 2*x - 2*y"
            ],
            "text/latex": "$\\displaystyle \\frac{7 x^{2}}{4} + \\frac{7 x y}{2} + 2 x - 2 y$"
          },
          "metadata": {},
          "execution_count": 12
        }
      ]
    },
    {
      "cell_type": "markdown",
      "source": [
        "5. Используя библиотеку NumPy, найти собственные векторы\n",
        "и собственные значения\n",
        "A = $\\begin{pmatrix}\n",
        "-7 & -5 & -5 \\\\\n",
        "0 & 3 & 0 \\\\\n",
        "10 & 5 & 8\n",
        "\\end{pmatrix}$\n"
      ],
      "metadata": {
        "id": "VHp1M8dyu0Cl"
      }
    },
    {
      "cell_type": "markdown",
      "source": [
        "создание матрицы"
      ],
      "metadata": {
        "id": "UOS003__vhSG"
      }
    },
    {
      "cell_type": "code",
      "source": [
        "matA = np.array([[-7,-5,-5],[0,3,0], [10, 5, 8]])\n",
        "print(matA)"
      ],
      "metadata": {
        "colab": {
          "base_uri": "https://localhost:8080/"
        },
        "id": "f0nS5WqqvfhW",
        "outputId": "80e1f949-fba7-4e1b-a191-229afb2da52e"
      },
      "execution_count": null,
      "outputs": [
        {
          "output_type": "stream",
          "name": "stdout",
          "text": [
            "[[-7 -5 -5]\n",
            " [ 0  3  0]\n",
            " [10  5  8]]\n"
          ]
        }
      ]
    },
    {
      "cell_type": "markdown",
      "source": [
        "нахождение собственных векторов и значений"
      ],
      "metadata": {
        "id": "sG7f5dsBv2kc"
      }
    },
    {
      "cell_type": "code",
      "source": [
        "vals, vecs = np.linalg.eig(matA)\n",
        "print(\"Собственные вектора: \")\n",
        "print(vecs)\n",
        "print(\"Собственные значения:\")\n",
        "print(vals)"
      ],
      "metadata": {
        "colab": {
          "base_uri": "https://localhost:8080/"
        },
        "id": "YIHsIM9Zv8dr",
        "outputId": "5ef7c258-c255-4957-ad47-4e7830912921"
      },
      "execution_count": null,
      "outputs": [
        {
          "output_type": "stream",
          "name": "stdout",
          "text": [
            "Собственные вектора: \n",
            "[[-0.70710678  0.4472136  -0.57735027]\n",
            " [ 0.          0.          0.57735027]\n",
            " [ 0.70710678 -0.89442719  0.57735027]]\n",
            "Собственные значения:\n",
            "[-2.  3.  3.]\n"
          ]
        }
      ]
    },
    {
      "cell_type": "markdown",
      "source": [
        "6. Вычислить интеграл двумя способами: используя библиотеку SciPy и библиотеку SymPy\n",
        "$$\\int_0^{\\frac {\\pi}{2}} {e^{2x}{cosx}} dx $$\n"
      ],
      "metadata": {
        "id": "9nt80EzjxJCA"
      }
    },
    {
      "cell_type": "markdown",
      "source": [
        "SymPy:"
      ],
      "metadata": {
        "id": "0h8j4aWaz40g"
      }
    },
    {
      "cell_type": "code",
      "source": [
        "x = sp.Symbol('x')\n",
        "integ = sp.exp(2*x)*sp.cos(x)\n",
        "sp.integrate(integ,(x, 0 ,sp.pi/2)).evalf()"
      ],
      "metadata": {
        "colab": {
          "base_uri": "https://localhost:8080/",
          "height": 37
        },
        "id": "yaFHD31gz0N4",
        "outputId": "a27288ac-127e-4336-88a2-02ded5b03eab"
      },
      "execution_count": null,
      "outputs": [
        {
          "output_type": "execute_result",
          "data": {
            "text/plain": [
              "4.22813852655585"
            ],
            "text/latex": "$\\displaystyle 4.22813852655585$"
          },
          "metadata": {},
          "execution_count": 24
        }
      ]
    },
    {
      "cell_type": "markdown",
      "source": [
        "SciPy:"
      ],
      "metadata": {
        "id": "2KIoxBTV7qhi"
      }
    },
    {
      "cell_type": "code",
      "source": [
        "sc.integrate.quad(lambda x: math.exp(2*x)*math.cos(x), 0, math.pi/2)"
      ],
      "metadata": {
        "colab": {
          "base_uri": "https://localhost:8080/"
        },
        "id": "Y8hOY0crBQOy",
        "outputId": "aef09568-de13-4772-92ae-f519044f5bf3"
      },
      "execution_count": null,
      "outputs": [
        {
          "output_type": "execute_result",
          "data": {
            "text/plain": [
              "(4.2281385265558535, 4.694176743486993e-14)"
            ]
          },
          "metadata": {},
          "execution_count": 16
        }
      ]
    },
    {
      "cell_type": "markdown",
      "source": [
        "7. Вычислить интеграл двумя способами: используя библиотеку SciPy и библиотеку SymPy $$\\int_{-\\infty}^\\infty {\\frac {1}{x^2+4x+9}} dx$$"
      ],
      "metadata": {
        "id": "M4VHLllBCJmf"
      }
    },
    {
      "cell_type": "markdown",
      "source": [
        "SymPy:"
      ],
      "metadata": {
        "id": "T7CZJLwUg6z2"
      }
    },
    {
      "cell_type": "code",
      "source": [
        "sp.integrate(1/(x**2 + 4*x + 9), (x, -sp.oo, sp.oo)).evalf()"
      ],
      "metadata": {
        "colab": {
          "base_uri": "https://localhost:8080/",
          "height": 37
        },
        "id": "CVjrijxWg999",
        "outputId": "6161d867-5d95-433e-edf2-61a7786ab763"
      },
      "execution_count": null,
      "outputs": [
        {
          "output_type": "execute_result",
          "data": {
            "text/plain": [
              "1.40496294620815"
            ],
            "text/latex": "$\\displaystyle 1.40496294620815$"
          },
          "metadata": {},
          "execution_count": 25
        }
      ]
    },
    {
      "cell_type": "markdown",
      "source": [
        "SciPy"
      ],
      "metadata": {
        "id": "HmuFxj_OiCUn"
      }
    },
    {
      "cell_type": "code",
      "source": [
        "sc.integrate.quad(lambda x: (1/(x**2 + 4*x + 9)), -math.inf, math.inf)"
      ],
      "metadata": {
        "colab": {
          "base_uri": "https://localhost:8080/"
        },
        "id": "5rSCLXnniEyL",
        "outputId": "9647d21a-8529-4f97-fcce-fa37f205c49f"
      },
      "execution_count": null,
      "outputs": [
        {
          "output_type": "execute_result",
          "data": {
            "text/plain": [
              "(1.4049629462081457, 1.3312484726521139e-09)"
            ]
          },
          "metadata": {},
          "execution_count": 18
        }
      ]
    },
    {
      "cell_type": "markdown",
      "source": [
        "8. Построить в одной системе координат графики функций: $$\\begin{cases}\n",
        "y = Ln(x) + 2\\\\\n",
        "y = -3x\n",
        "\\end{cases}$$\n",
        "Оси координат должны быть подписаны, графики\n",
        "должны быть разного цвета, должна быть выведена легенда. Точку\n",
        "пересечения (если она есть) выделить на графике оранжевым цветом."
      ],
      "metadata": {
        "id": "1y-n66hykU26"
      }
    },
    {
      "cell_type": "code",
      "source": [
        "plt.figure(figsize=(8, 5), dpi=80)\n",
        "ax = plt.subplot(111)\n",
        "\n",
        "ax.spines['right'].set_color('none')\n",
        "ax.spines['top'].set_color('none')\n",
        "\n",
        "ax.xaxis.set_ticks_position('bottom')\n",
        "ax.spines['bottom'].set_position(('data', 0))\n",
        "ax.yaxis.set_ticks_position('left')\n",
        "ax.spines['left'].set_position(('data', 0))\n",
        "\n",
        "x1 = np.linspace(np.e**-4, 2, 400)\n",
        "x2 = np.linspace(-2, 2, 400)\n",
        "y1 = np.log(x1) + 2\n",
        "y2 = -3*x2\n",
        "plt.plot(x1, y1, label='y = Ln(x) + 2', color='blue')\n",
        "plt.plot(x2, y2, label='y = -3x', color='green')\n",
        "\n",
        "intersection_x = []\n",
        "intersection_y = []\n",
        "for x in np.linspace(np.e**-3, 1, 1000):\n",
        "    if np.isclose(np.log(x) + 2, -3*x, atol=0.02):\n",
        "        intersection_x.append(x)\n",
        "        intersection_y.append(np.log(x) + 2)\n",
        "\n",
        "ax.scatter(intersection_x, intersection_y, c='orange', s=100, label='Точка пересечения')\n",
        "plt.xticks([ -2, -1.5, -1, -0.5, 0, 0.5, 1, 1.5, 2 ])\n",
        "plt.yticks([ -2, -1.5, -1, -0.5, 0, 0.5, 1, 1.5, 2 ])\n",
        "plt.xlim(-2, 2)\n",
        "plt.ylim(-2, 2)\n",
        "plt.grid()\n",
        "plt.title(\"Графики функций y=Ln(x)+2 и y=-3x\")\n",
        "plt.legend()\n",
        "plt.show()"
      ],
      "metadata": {
        "colab": {
          "base_uri": "https://localhost:8080/",
          "height": 363
        },
        "id": "r2c2mVI2KMQI",
        "outputId": "8a1d2394-47a4-4208-f42d-248411d816f0"
      },
      "execution_count": null,
      "outputs": [
        {
          "output_type": "display_data",
          "data": {
            "text/plain": [
              "<Figure size 640x400 with 1 Axes>"
            ],
            "image/png": "[encoded data removed]"
          },
          "metadata": {}
        }
      ]
    }
  ]
}